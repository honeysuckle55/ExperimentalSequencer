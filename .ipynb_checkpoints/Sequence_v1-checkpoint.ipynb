{
 "cells": [
  {
   "cell_type": "code",
   "execution_count": 2,
   "id": "f845df64-bc44-4132-9053-3aac69b8e096",
   "metadata": {},
   "outputs": [
    {
     "data": {
      "application/vnd.plotly.v1+json": {
       "config": {
        "plotlyServerURL": "https://plot.ly"
       },
       "data": [
        {
         "base": 0,
         "hovertemplate": "Tweezer Loading<br>Start: 0 ms<br>Duration: 10 ms<br>Group: Prep<extra></extra>",
         "marker": {
          "color": "lightblue"
         },
         "name": "Prep",
         "orientation": "h",
         "type": "bar",
         "x": [
          10
         ],
         "y": [
          "Tweezer Loading"
         ]
        },
        {
         "base": 10,
         "hovertemplate": "LAC<br>Start: 10 ms<br>Duration: 30 ms<br>Group: Control<extra></extra>",
         "marker": {
          "color": "orange"
         },
         "name": "Control",
         "orientation": "h",
         "type": "bar",
         "x": [
          30
         ],
         "y": [
          "LAC"
         ]
        },
        {
         "base": 40,
         "hovertemplate": "Ry Pulse (ON, resonant, P401)<br>Start: 40 ms<br>Duration: 0.005 ms<br>Group: Manipulation<extra></extra>",
         "marker": {
          "color": "lightgreen"
         },
         "name": "Manipulation",
         "orientation": "h",
         "type": "bar",
         "x": [
          0.005
         ],
         "y": [
          "Ry Pulse (ON, resonant, P401)"
         ]
        },
        {
         "base": 40,
         "hovertemplate": "Ry Pulse (OFF, off-resonant)<br>Start: 40 ms<br>Duration: 0.005 ms<br>Group: Manipulation<extra></extra>",
         "marker": {
          "color": "lightgreen"
         },
         "name": "Manipulation",
         "orientation": "h",
         "type": "bar",
         "x": [
          0.005
         ],
         "y": [
          "Ry Pulse (OFF, off-resonant)"
         ]
        },
        {
         "base": 40.005,
         "hovertemplate": "Electrodes<br>Start: 40.005 ms<br>Duration: 5 ms<br>Group: Optional<extra></extra>",
         "marker": {
          "color": "violet"
         },
         "name": "Optional",
         "orientation": "h",
         "type": "bar",
         "x": [
          5
         ],
         "y": [
          "Electrodes"
         ]
        },
        {
         "base": 45.005,
         "hovertemplate": "Imaging (583)<br>Start: 45.005 ms<br>Duration: 10 ms<br>Group: Readout<extra></extra>",
         "marker": {
          "color": "salmon"
         },
         "name": "Readout",
         "orientation": "h",
         "type": "bar",
         "x": [
          10
         ],
         "y": [
          "Imaging (583)"
         ]
        },
        {
         "base": 45.005,
         "hovertemplate": "Imaging (401)<br>Start: 45.005 ms<br>Duration: 10 ms<br>Group: Readout<extra></extra>",
         "marker": {
          "color": "salmon"
         },
         "name": "Readout",
         "orientation": "h",
         "type": "bar",
         "x": [
          10
         ],
         "y": [
          "Imaging (401)"
         ]
        }
       ],
       "layout": {
        "autosize": true,
        "barmode": "stack",
        "margin": {
         "b": 50,
         "l": 200,
         "r": 50,
         "t": 50
        },
        "showlegend": true,
        "template": {
         "data": {
          "bar": [
           {
            "error_x": {
             "color": "#2a3f5f"
            },
            "error_y": {
             "color": "#2a3f5f"
            },
            "marker": {
             "line": {
              "color": "#E5ECF6",
              "width": 0.5
             },
             "pattern": {
              "fillmode": "overlay",
              "size": 10,
              "solidity": 0.2
             }
            },
            "type": "bar"
           }
          ],
          "barpolar": [
           {
            "marker": {
             "line": {
              "color": "#E5ECF6",
              "width": 0.5
             },
             "pattern": {
              "fillmode": "overlay",
              "size": 10,
              "solidity": 0.2
             }
            },
            "type": "barpolar"
           }
          ],
          "carpet": [
           {
            "aaxis": {
             "endlinecolor": "#2a3f5f",
             "gridcolor": "white",
             "linecolor": "white",
             "minorgridcolor": "white",
             "startlinecolor": "#2a3f5f"
            },
            "baxis": {
             "endlinecolor": "#2a3f5f",
             "gridcolor": "white",
             "linecolor": "white",
             "minorgridcolor": "white",
             "startlinecolor": "#2a3f5f"
            },
            "type": "carpet"
           }
          ],
          "choropleth": [
           {
            "colorbar": {
             "outlinewidth": 0,
             "ticks": ""
            },
            "type": "choropleth"
           }
          ],
          "contour": [
           {
            "colorbar": {
             "outlinewidth": 0,
             "ticks": ""
            },
            "colorscale": [
             [
              0,
              "#0d0887"
             ],
             [
              0.1111111111111111,
              "#46039f"
             ],
             [
              0.2222222222222222,
              "#7201a8"
             ],
             [
              0.3333333333333333,
              "#9c179e"
             ],
             [
              0.4444444444444444,
              "#bd3786"
             ],
             [
              0.5555555555555556,
              "#d8576b"
             ],
             [
              0.6666666666666666,
              "#ed7953"
             ],
             [
              0.7777777777777778,
              "#fb9f3a"
             ],
             [
              0.8888888888888888,
              "#fdca26"
             ],
             [
              1,
              "#f0f921"
             ]
            ],
            "type": "contour"
           }
          ],
          "contourcarpet": [
           {
            "colorbar": {
             "outlinewidth": 0,
             "ticks": ""
            },
            "type": "contourcarpet"
           }
          ],
          "heatmap": [
           {
            "colorbar": {
             "outlinewidth": 0,
             "ticks": ""
            },
            "colorscale": [
             [
              0,
              "#0d0887"
             ],
             [
              0.1111111111111111,
              "#46039f"
             ],
             [
              0.2222222222222222,
              "#7201a8"
             ],
             [
              0.3333333333333333,
              "#9c179e"
             ],
             [
              0.4444444444444444,
              "#bd3786"
             ],
             [
              0.5555555555555556,
              "#d8576b"
             ],
             [
              0.6666666666666666,
              "#ed7953"
             ],
             [
              0.7777777777777778,
              "#fb9f3a"
             ],
             [
              0.8888888888888888,
              "#fdca26"
             ],
             [
              1,
              "#f0f921"
             ]
            ],
            "type": "heatmap"
           }
          ],
          "heatmapgl": [
           {
            "colorbar": {
             "outlinewidth": 0,
             "ticks": ""
            },
            "colorscale": [
             [
              0,
              "#0d0887"
             ],
             [
              0.1111111111111111,
              "#46039f"
             ],
             [
              0.2222222222222222,
              "#7201a8"
             ],
             [
              0.3333333333333333,
              "#9c179e"
             ],
             [
              0.4444444444444444,
              "#bd3786"
             ],
             [
              0.5555555555555556,
              "#d8576b"
             ],
             [
              0.6666666666666666,
              "#ed7953"
             ],
             [
              0.7777777777777778,
              "#fb9f3a"
             ],
             [
              0.8888888888888888,
              "#fdca26"
             ],
             [
              1,
              "#f0f921"
             ]
            ],
            "type": "heatmapgl"
           }
          ],
          "histogram": [
           {
            "marker": {
             "pattern": {
              "fillmode": "overlay",
              "size": 10,
              "solidity": 0.2
             }
            },
            "type": "histogram"
           }
          ],
          "histogram2d": [
           {
            "colorbar": {
             "outlinewidth": 0,
             "ticks": ""
            },
            "colorscale": [
             [
              0,
              "#0d0887"
             ],
             [
              0.1111111111111111,
              "#46039f"
             ],
             [
              0.2222222222222222,
              "#7201a8"
             ],
             [
              0.3333333333333333,
              "#9c179e"
             ],
             [
              0.4444444444444444,
              "#bd3786"
             ],
             [
              0.5555555555555556,
              "#d8576b"
             ],
             [
              0.6666666666666666,
              "#ed7953"
             ],
             [
              0.7777777777777778,
              "#fb9f3a"
             ],
             [
              0.8888888888888888,
              "#fdca26"
             ],
             [
              1,
              "#f0f921"
             ]
            ],
            "type": "histogram2d"
           }
          ],
          "histogram2dcontour": [
           {
            "colorbar": {
             "outlinewidth": 0,
             "ticks": ""
            },
            "colorscale": [
             [
              0,
              "#0d0887"
             ],
             [
              0.1111111111111111,
              "#46039f"
             ],
             [
              0.2222222222222222,
              "#7201a8"
             ],
             [
              0.3333333333333333,
              "#9c179e"
             ],
             [
              0.4444444444444444,
              "#bd3786"
             ],
             [
              0.5555555555555556,
              "#d8576b"
             ],
             [
              0.6666666666666666,
              "#ed7953"
             ],
             [
              0.7777777777777778,
              "#fb9f3a"
             ],
             [
              0.8888888888888888,
              "#fdca26"
             ],
             [
              1,
              "#f0f921"
             ]
            ],
            "type": "histogram2dcontour"
           }
          ],
          "mesh3d": [
           {
            "colorbar": {
             "outlinewidth": 0,
             "ticks": ""
            },
            "type": "mesh3d"
           }
          ],
          "parcoords": [
           {
            "line": {
             "colorbar": {
              "outlinewidth": 0,
              "ticks": ""
             }
            },
            "type": "parcoords"
           }
          ],
          "pie": [
           {
            "automargin": true,
            "type": "pie"
           }
          ],
          "scatter": [
           {
            "fillpattern": {
             "fillmode": "overlay",
             "size": 10,
             "solidity": 0.2
            },
            "type": "scatter"
           }
          ],
          "scatter3d": [
           {
            "line": {
             "colorbar": {
              "outlinewidth": 0,
              "ticks": ""
             }
            },
            "marker": {
             "colorbar": {
              "outlinewidth": 0,
              "ticks": ""
             }
            },
            "type": "scatter3d"
           }
          ],
          "scattercarpet": [
           {
            "marker": {
             "colorbar": {
              "outlinewidth": 0,
              "ticks": ""
             }
            },
            "type": "scattercarpet"
           }
          ],
          "scattergeo": [
           {
            "marker": {
             "colorbar": {
              "outlinewidth": 0,
              "ticks": ""
             }
            },
            "type": "scattergeo"
           }
          ],
          "scattergl": [
           {
            "marker": {
             "colorbar": {
              "outlinewidth": 0,
              "ticks": ""
             }
            },
            "type": "scattergl"
           }
          ],
          "scattermapbox": [
           {
            "marker": {
             "colorbar": {
              "outlinewidth": 0,
              "ticks": ""
             }
            },
            "type": "scattermapbox"
           }
          ],
          "scatterpolar": [
           {
            "marker": {
             "colorbar": {
              "outlinewidth": 0,
              "ticks": ""
             }
            },
            "type": "scatterpolar"
           }
          ],
          "scatterpolargl": [
           {
            "marker": {
             "colorbar": {
              "outlinewidth": 0,
              "ticks": ""
             }
            },
            "type": "scatterpolargl"
           }
          ],
          "scatterternary": [
           {
            "marker": {
             "colorbar": {
              "outlinewidth": 0,
              "ticks": ""
             }
            },
            "type": "scatterternary"
           }
          ],
          "surface": [
           {
            "colorbar": {
             "outlinewidth": 0,
             "ticks": ""
            },
            "colorscale": [
             [
              0,
              "#0d0887"
             ],
             [
              0.1111111111111111,
              "#46039f"
             ],
             [
              0.2222222222222222,
              "#7201a8"
             ],
             [
              0.3333333333333333,
              "#9c179e"
             ],
             [
              0.4444444444444444,
              "#bd3786"
             ],
             [
              0.5555555555555556,
              "#d8576b"
             ],
             [
              0.6666666666666666,
              "#ed7953"
             ],
             [
              0.7777777777777778,
              "#fb9f3a"
             ],
             [
              0.8888888888888888,
              "#fdca26"
             ],
             [
              1,
              "#f0f921"
             ]
            ],
            "type": "surface"
           }
          ],
          "table": [
           {
            "cells": {
             "fill": {
              "color": "#EBF0F8"
             },
             "line": {
              "color": "white"
             }
            },
            "header": {
             "fill": {
              "color": "#C8D4E3"
             },
             "line": {
              "color": "white"
             }
            },
            "type": "table"
           }
          ]
         },
         "layout": {
          "annotationdefaults": {
           "arrowcolor": "#2a3f5f",
           "arrowhead": 0,
           "arrowwidth": 1
          },
          "autotypenumbers": "strict",
          "coloraxis": {
           "colorbar": {
            "outlinewidth": 0,
            "ticks": ""
           }
          },
          "colorscale": {
           "diverging": [
            [
             0,
             "#8e0152"
            ],
            [
             0.1,
             "#c51b7d"
            ],
            [
             0.2,
             "#de77ae"
            ],
            [
             0.3,
             "#f1b6da"
            ],
            [
             0.4,
             "#fde0ef"
            ],
            [
             0.5,
             "#f7f7f7"
            ],
            [
             0.6,
             "#e6f5d0"
            ],
            [
             0.7,
             "#b8e186"
            ],
            [
             0.8,
             "#7fbc41"
            ],
            [
             0.9,
             "#4d9221"
            ],
            [
             1,
             "#276419"
            ]
           ],
           "sequential": [
            [
             0,
             "#0d0887"
            ],
            [
             0.1111111111111111,
             "#46039f"
            ],
            [
             0.2222222222222222,
             "#7201a8"
            ],
            [
             0.3333333333333333,
             "#9c179e"
            ],
            [
             0.4444444444444444,
             "#bd3786"
            ],
            [
             0.5555555555555556,
             "#d8576b"
            ],
            [
             0.6666666666666666,
             "#ed7953"
            ],
            [
             0.7777777777777778,
             "#fb9f3a"
            ],
            [
             0.8888888888888888,
             "#fdca26"
            ],
            [
             1,
             "#f0f921"
            ]
           ],
           "sequentialminus": [
            [
             0,
             "#0d0887"
            ],
            [
             0.1111111111111111,
             "#46039f"
            ],
            [
             0.2222222222222222,
             "#7201a8"
            ],
            [
             0.3333333333333333,
             "#9c179e"
            ],
            [
             0.4444444444444444,
             "#bd3786"
            ],
            [
             0.5555555555555556,
             "#d8576b"
            ],
            [
             0.6666666666666666,
             "#ed7953"
            ],
            [
             0.7777777777777778,
             "#fb9f3a"
            ],
            [
             0.8888888888888888,
             "#fdca26"
            ],
            [
             1,
             "#f0f921"
            ]
           ]
          },
          "colorway": [
           "#636efa",
           "#EF553B",
           "#00cc96",
           "#ab63fa",
           "#FFA15A",
           "#19d3f3",
           "#FF6692",
           "#B6E880",
           "#FF97FF",
           "#FECB52"
          ],
          "font": {
           "color": "#2a3f5f"
          },
          "geo": {
           "bgcolor": "white",
           "lakecolor": "white",
           "landcolor": "#E5ECF6",
           "showlakes": true,
           "showland": true,
           "subunitcolor": "white"
          },
          "hoverlabel": {
           "align": "left"
          },
          "hovermode": "closest",
          "mapbox": {
           "style": "light"
          },
          "paper_bgcolor": "white",
          "plot_bgcolor": "#E5ECF6",
          "polar": {
           "angularaxis": {
            "gridcolor": "white",
            "linecolor": "white",
            "ticks": ""
           },
           "bgcolor": "#E5ECF6",
           "radialaxis": {
            "gridcolor": "white",
            "linecolor": "white",
            "ticks": ""
           }
          },
          "scene": {
           "xaxis": {
            "backgroundcolor": "#E5ECF6",
            "gridcolor": "white",
            "gridwidth": 2,
            "linecolor": "white",
            "showbackground": true,
            "ticks": "",
            "zerolinecolor": "white"
           },
           "yaxis": {
            "backgroundcolor": "#E5ECF6",
            "gridcolor": "white",
            "gridwidth": 2,
            "linecolor": "white",
            "showbackground": true,
            "ticks": "",
            "zerolinecolor": "white"
           },
           "zaxis": {
            "backgroundcolor": "#E5ECF6",
            "gridcolor": "white",
            "gridwidth": 2,
            "linecolor": "white",
            "showbackground": true,
            "ticks": "",
            "zerolinecolor": "white"
           }
          },
          "shapedefaults": {
           "line": {
            "color": "#2a3f5f"
           }
          },
          "ternary": {
           "aaxis": {
            "gridcolor": "white",
            "linecolor": "white",
            "ticks": ""
           },
           "baxis": {
            "gridcolor": "white",
            "linecolor": "white",
            "ticks": ""
           },
           "bgcolor": "#E5ECF6",
           "caxis": {
            "gridcolor": "white",
            "linecolor": "white",
            "ticks": ""
           }
          },
          "title": {
           "x": 0.05
          },
          "xaxis": {
           "automargin": true,
           "gridcolor": "white",
           "linecolor": "white",
           "ticks": "",
           "title": {
            "standoff": 15
           },
           "zerolinecolor": "white",
           "zerolinewidth": 2
          },
          "yaxis": {
           "automargin": true,
           "gridcolor": "white",
           "linecolor": "white",
           "ticks": "",
           "title": {
            "standoff": 15
           },
           "zerolinecolor": "white",
           "zerolinewidth": 2
          }
         }
        },
        "title": {
         "text": "Experimental Sequence Timeline"
        },
        "xaxis": {
         "range": [
          0,
          60
         ],
         "title": {
          "text": "Time (ms)"
         },
         "type": "linear"
        },
        "yaxis": {
         "autorange": true,
         "range": [
          6.5,
          -0.5
         ],
         "title": {
          "text": "Step"
         },
         "type": "category"
        }
       }
      },
      "image/png": "[encoded data removed]",
      "text/html": [
       "<div>                            <div id=\"1cfa9ac0-87d8-40c6-96ff-fd04e7df6e18\" class=\"plotly-graph-div\" style=\"height:400px; width:100%;\"></div>            <script type=\"text/javascript\">                require([\"plotly\"], function(Plotly) {                    window.PLOTLYENV=window.PLOTLYENV || {};                                    if (document.getElementById(\"1cfa9ac0-87d8-40c6-96ff-fd04e7df6e18\")) {                    Plotly.newPlot(                        \"1cfa9ac0-87d8-40c6-96ff-fd04e7df6e18\",                        [{\"base\":0,\"hovertemplate\":\"Tweezer Loading<br>Start: 0 ms<br>Duration: 10 ms<br>Group: Prep<extra></extra>\",\"marker\":{\"color\":\"lightblue\"},\"name\":\"Prep\",\"orientation\":\"h\",\"x\":[10],\"y\":[\"Tweezer Loading\"],\"type\":\"bar\"},{\"base\":10,\"hovertemplate\":\"LAC<br>Start: 10 ms<br>Duration: 30 ms<br>Group: Control<extra></extra>\",\"marker\":{\"color\":\"orange\"},\"name\":\"Control\",\"orientation\":\"h\",\"x\":[30],\"y\":[\"LAC\"],\"type\":\"bar\"},{\"base\":40,\"hovertemplate\":\"Ry Pulse (ON, resonant, P401)<br>Start: 40 ms<br>Duration: 0.005 ms<br>Group: Manipulation<extra></extra>\",\"marker\":{\"color\":\"lightgreen\"},\"name\":\"Manipulation\",\"orientation\":\"h\",\"x\":[0.005],\"y\":[\"Ry Pulse (ON, resonant, P401)\"],\"type\":\"bar\"},{\"base\":40,\"hovertemplate\":\"Ry Pulse (OFF, off-resonant)<br>Start: 40 ms<br>Duration: 0.005 ms<br>Group: Manipulation<extra></extra>\",\"marker\":{\"color\":\"lightgreen\"},\"name\":\"Manipulation\",\"orientation\":\"h\",\"x\":[0.005],\"y\":[\"Ry Pulse (OFF, off-resonant)\"],\"type\":\"bar\"},{\"base\":40.005,\"hovertemplate\":\"Electrodes<br>Start: 40.005 ms<br>Duration: 5 ms<br>Group: Optional<extra></extra>\",\"marker\":{\"color\":\"violet\"},\"name\":\"Optional\",\"orientation\":\"h\",\"x\":[5],\"y\":[\"Electrodes\"],\"type\":\"bar\"},{\"base\":45.005,\"hovertemplate\":\"Imaging (583)<br>Start: 45.005 ms<br>Duration: 10 ms<br>Group: Readout<extra></extra>\",\"marker\":{\"color\":\"salmon\"},\"name\":\"Readout\",\"orientation\":\"h\",\"x\":[10],\"y\":[\"Imaging (583)\"],\"type\":\"bar\"},{\"base\":45.005,\"hovertemplate\":\"Imaging (401)<br>Start: 45.005 ms<br>Duration: 10 ms<br>Group: Readout<extra></extra>\",\"marker\":{\"color\":\"salmon\"},\"name\":\"Readout\",\"orientation\":\"h\",\"x\":[10],\"y\":[\"Imaging (401)\"],\"type\":\"bar\"}],                        {\"template\":{\"data\":{\"histogram2dcontour\":[{\"type\":\"histogram2dcontour\",\"colorbar\":{\"outlinewidth\":0,\"ticks\":\"\"},\"colorscale\":[[0.0,\"#0d0887\"],[0.1111111111111111,\"#46039f\"],[0.2222222222222222,\"#7201a8\"],[0.3333333333333333,\"#9c179e\"],[0.4444444444444444,\"#bd3786\"],[0.5555555555555556,\"#d8576b\"],[0.6666666666666666,\"#ed7953\"],[0.7777777777777778,\"#fb9f3a\"],[0.8888888888888888,\"#fdca26\"],[1.0,\"#f0f921\"]]}],\"choropleth\":[{\"type\":\"choropleth\",\"colorbar\":{\"outlinewidth\":0,\"ticks\":\"\"}}],\"histogram2d\":[{\"type\":\"histogram2d\",\"colorbar\":{\"outlinewidth\":0,\"ticks\":\"\"},\"colorscale\":[[0.0,\"#0d0887\"],[0.1111111111111111,\"#46039f\"],[0.2222222222222222,\"#7201a8\"],[0.3333333333333333,\"#9c179e\"],[0.4444444444444444,\"#bd3786\"],[0.5555555555555556,\"#d8576b\"],[0.6666666666666666,\"#ed7953\"],[0.7777777777777778,\"#fb9f3a\"],[0.8888888888888888,\"#fdca26\"],[1.0,\"#f0f921\"]]}],\"heatmap\":[{\"type\":\"heatmap\",\"colorbar\":{\"outlinewidth\":0,\"ticks\":\"\"},\"colorscale\":[[0.0,\"#0d0887\"],[0.1111111111111111,\"#46039f\"],[0.2222222222222222,\"#7201a8\"],[0.3333333333333333,\"#9c179e\"],[0.4444444444444444,\"#bd3786\"],[0.5555555555555556,\"#d8576b\"],[0.6666666666666666,\"#ed7953\"],[0.7777777777777778,\"#fb9f3a\"],[0.8888888888888888,\"#fdca26\"],[1.0,\"#f0f921\"]]}],\"heatmapgl\":[{\"type\":\"heatmapgl\",\"colorbar\":{\"outlinewidth\":0,\"ticks\":\"\"},\"colorscale\":[[0.0,\"#0d0887\"],[0.1111111111111111,\"#46039f\"],[0.2222222222222222,\"#7201a8\"],[0.3333333333333333,\"#9c179e\"],[0.4444444444444444,\"#bd3786\"],[0.5555555555555556,\"#d8576b\"],[0.6666666666666666,\"#ed7953\"],[0.7777777777777778,\"#fb9f3a\"],[0.8888888888888888,\"#fdca26\"],[1.0,\"#f0f921\"]]}],\"contourcarpet\":[{\"type\":\"contourcarpet\",\"colorbar\":{\"outlinewidth\":0,\"ticks\":\"\"}}],\"contour\":[{\"type\":\"contour\",\"colorbar\":{\"outlinewidth\":0,\"ticks\":\"\"},\"colorscale\":[[0.0,\"#0d0887\"],[0.1111111111111111,\"#46039f\"],[0.2222222222222222,\"#7201a8\"],[0.3333333333333333,\"#9c179e\"],[0.4444444444444444,\"#bd3786\"],[0.5555555555555556,\"#d8576b\"],[0.6666666666666666,\"#ed7953\"],[0.7777777777777778,\"#fb9f3a\"],[0.8888888888888888,\"#fdca26\"],[1.0,\"#f0f921\"]]}],\"surface\":[{\"type\":\"surface\",\"colorbar\":{\"outlinewidth\":0,\"ticks\":\"\"},\"colorscale\":[[0.0,\"#0d0887\"],[0.1111111111111111,\"#46039f\"],[0.2222222222222222,\"#7201a8\"],[0.3333333333333333,\"#9c179e\"],[0.4444444444444444,\"#bd3786\"],[0.5555555555555556,\"#d8576b\"],[0.6666666666666666,\"#ed7953\"],[0.7777777777777778,\"#fb9f3a\"],[0.8888888888888888,\"#fdca26\"],[1.0,\"#f0f921\"]]}],\"mesh3d\":[{\"type\":\"mesh3d\",\"colorbar\":{\"outlinewidth\":0,\"ticks\":\"\"}}],\"scatter\":[{\"fillpattern\":{\"fillmode\":\"overlay\",\"size\":10,\"solidity\":0.2},\"type\":\"scatter\"}],\"parcoords\":[{\"type\":\"parcoords\",\"line\":{\"colorbar\":{\"outlinewidth\":0,\"ticks\":\"\"}}}],\"scatterpolargl\":[{\"type\":\"scatterpolargl\",\"marker\":{\"colorbar\":{\"outlinewidth\":0,\"ticks\":\"\"}}}],\"bar\":[{\"error_x\":{\"color\":\"#2a3f5f\"},\"error_y\":{\"color\":\"#2a3f5f\"},\"marker\":{\"line\":{\"color\":\"#E5ECF6\",\"width\":0.5},\"pattern\":{\"fillmode\":\"overlay\",\"size\":10,\"solidity\":0.2}},\"type\":\"bar\"}],\"scattergeo\":[{\"type\":\"scattergeo\",\"marker\":{\"colorbar\":{\"outlinewidth\":0,\"ticks\":\"\"}}}],\"scatterpolar\":[{\"type\":\"scatterpolar\",\"marker\":{\"colorbar\":{\"outlinewidth\":0,\"ticks\":\"\"}}}],\"histogram\":[{\"marker\":{\"pattern\":{\"fillmode\":\"overlay\",\"size\":10,\"solidity\":0.2}},\"type\":\"histogram\"}],\"scattergl\":[{\"type\":\"scattergl\",\"marker\":{\"colorbar\":{\"outlinewidth\":0,\"ticks\":\"\"}}}],\"scatter3d\":[{\"type\":\"scatter3d\",\"line\":{\"colorbar\":{\"outlinewidth\":0,\"ticks\":\"\"}},\"marker\":{\"colorbar\":{\"outlinewidth\":0,\"ticks\":\"\"}}}],\"scattermapbox\":[{\"type\":\"scattermapbox\",\"marker\":{\"colorbar\":{\"outlinewidth\":0,\"ticks\":\"\"}}}],\"scatterternary\":[{\"type\":\"scatterternary\",\"marker\":{\"colorbar\":{\"outlinewidth\":0,\"ticks\":\"\"}}}],\"scattercarpet\":[{\"type\":\"scattercarpet\",\"marker\":{\"colorbar\":{\"outlinewidth\":0,\"ticks\":\"\"}}}],\"carpet\":[{\"aaxis\":{\"endlinecolor\":\"#2a3f5f\",\"gridcolor\":\"white\",\"linecolor\":\"white\",\"minorgridcolor\":\"white\",\"startlinecolor\":\"#2a3f5f\"},\"baxis\":{\"endlinecolor\":\"#2a3f5f\",\"gridcolor\":\"white\",\"linecolor\":\"white\",\"minorgridcolor\":\"white\",\"startlinecolor\":\"#2a3f5f\"},\"type\":\"carpet\"}],\"table\":[{\"cells\":{\"fill\":{\"color\":\"#EBF0F8\"},\"line\":{\"color\":\"white\"}},\"header\":{\"fill\":{\"color\":\"#C8D4E3\"},\"line\":{\"color\":\"white\"}},\"type\":\"table\"}],\"barpolar\":[{\"marker\":{\"line\":{\"color\":\"#E5ECF6\",\"width\":0.5},\"pattern\":{\"fillmode\":\"overlay\",\"size\":10,\"solidity\":0.2}},\"type\":\"barpolar\"}],\"pie\":[{\"automargin\":true,\"type\":\"pie\"}]},\"layout\":{\"autotypenumbers\":\"strict\",\"colorway\":[\"#636efa\",\"#EF553B\",\"#00cc96\",\"#ab63fa\",\"#FFA15A\",\"#19d3f3\",\"#FF6692\",\"#B6E880\",\"#FF97FF\",\"#FECB52\"],\"font\":{\"color\":\"#2a3f5f\"},\"hovermode\":\"closest\",\"hoverlabel\":{\"align\":\"left\"},\"paper_bgcolor\":\"white\",\"plot_bgcolor\":\"#E5ECF6\",\"polar\":{\"bgcolor\":\"#E5ECF6\",\"angularaxis\":{\"gridcolor\":\"white\",\"linecolor\":\"white\",\"ticks\":\"\"},\"radialaxis\":{\"gridcolor\":\"white\",\"linecolor\":\"white\",\"ticks\":\"\"}},\"ternary\":{\"bgcolor\":\"#E5ECF6\",\"aaxis\":{\"gridcolor\":\"white\",\"linecolor\":\"white\",\"ticks\":\"\"},\"baxis\":{\"gridcolor\":\"white\",\"linecolor\":\"white\",\"ticks\":\"\"},\"caxis\":{\"gridcolor\":\"white\",\"linecolor\":\"white\",\"ticks\":\"\"}},\"coloraxis\":{\"colorbar\":{\"outlinewidth\":0,\"ticks\":\"\"}},\"colorscale\":{\"sequential\":[[0.0,\"#0d0887\"],[0.1111111111111111,\"#46039f\"],[0.2222222222222222,\"#7201a8\"],[0.3333333333333333,\"#9c179e\"],[0.4444444444444444,\"#bd3786\"],[0.5555555555555556,\"#d8576b\"],[0.6666666666666666,\"#ed7953\"],[0.7777777777777778,\"#fb9f3a\"],[0.8888888888888888,\"#fdca26\"],[1.0,\"#f0f921\"]],\"sequentialminus\":[[0.0,\"#0d0887\"],[0.1111111111111111,\"#46039f\"],[0.2222222222222222,\"#7201a8\"],[0.3333333333333333,\"#9c179e\"],[0.4444444444444444,\"#bd3786\"],[0.5555555555555556,\"#d8576b\"],[0.6666666666666666,\"#ed7953\"],[0.7777777777777778,\"#fb9f3a\"],[0.8888888888888888,\"#fdca26\"],[1.0,\"#f0f921\"]],\"diverging\":[[0,\"#8e0152\"],[0.1,\"#c51b7d\"],[0.2,\"#de77ae\"],[0.3,\"#f1b6da\"],[0.4,\"#fde0ef\"],[0.5,\"#f7f7f7\"],[0.6,\"#e6f5d0\"],[0.7,\"#b8e186\"],[0.8,\"#7fbc41\"],[0.9,\"#4d9221\"],[1,\"#276419\"]]},\"xaxis\":{\"gridcolor\":\"white\",\"linecolor\":\"white\",\"ticks\":\"\",\"title\":{\"standoff\":15},\"zerolinecolor\":\"white\",\"automargin\":true,\"zerolinewidth\":2},\"yaxis\":{\"gridcolor\":\"white\",\"linecolor\":\"white\",\"ticks\":\"\",\"title\":{\"standoff\":15},\"zerolinecolor\":\"white\",\"automargin\":true,\"zerolinewidth\":2},\"scene\":{\"xaxis\":{\"backgroundcolor\":\"#E5ECF6\",\"gridcolor\":\"white\",\"linecolor\":\"white\",\"showbackground\":true,\"ticks\":\"\",\"zerolinecolor\":\"white\",\"gridwidth\":2},\"yaxis\":{\"backgroundcolor\":\"#E5ECF6\",\"gridcolor\":\"white\",\"linecolor\":\"white\",\"showbackground\":true,\"ticks\":\"\",\"zerolinecolor\":\"white\",\"gridwidth\":2},\"zaxis\":{\"backgroundcolor\":\"#E5ECF6\",\"gridcolor\":\"white\",\"linecolor\":\"white\",\"showbackground\":true,\"ticks\":\"\",\"zerolinecolor\":\"white\",\"gridwidth\":2}},\"shapedefaults\":{\"line\":{\"color\":\"#2a3f5f\"}},\"annotationdefaults\":{\"arrowcolor\":\"#2a3f5f\",\"arrowhead\":0,\"arrowwidth\":1},\"geo\":{\"bgcolor\":\"white\",\"landcolor\":\"#E5ECF6\",\"subunitcolor\":\"white\",\"showland\":true,\"showlakes\":true,\"lakecolor\":\"white\"},\"title\":{\"x\":0.05},\"mapbox\":{\"style\":\"light\"}}},\"xaxis\":{\"title\":{\"text\":\"Time (ms)\"},\"range\":[0,60]},\"yaxis\":{\"title\":{\"text\":\"Step\"},\"autorange\":\"reversed\"},\"margin\":{\"l\":200,\"r\":50,\"t\":50,\"b\":50},\"title\":{\"text\":\"Experimental Sequence Timeline\"},\"barmode\":\"stack\",\"showlegend\":true,\"height\":400},                        {\"responsive\": true}                    ).then(function(){\n",
       "                            \n",
       "var gd = document.getElementById('1cfa9ac0-87d8-40c6-96ff-fd04e7df6e18');\n",
       "var x = new MutationObserver(function (mutations, observer) {{\n",
       "        var display = window.getComputedStyle(gd).display;\n",
       "        if (!display || display === 'none') {{\n",
       "            console.log([gd, 'removed!']);\n",
       "            Plotly.purge(gd);\n",
       "            observer.disconnect();\n",
       "        }}\n",
       "}});\n",
       "\n",
       "// Listen for the removal of the full notebook cells\n",
       "var notebookContainer = gd.closest('#notebook-container');\n",
       "if (notebookContainer) {{\n",
       "    x.observe(notebookContainer, {childList: true});\n",
       "}}\n",
       "\n",
       "// Listen for the clearing of the current output cell\n",
       "var outputEl = gd.closest('.output');\n",
       "if (outputEl) {{\n",
       "    x.observe(outputEl, {childList: true});\n",
       "}}\n",
       "\n",
       "                        })                };                });            </script>        </div>"
      ]
     },
     "metadata": {},
     "output_type": "display_data"
    }
   ],
   "source": [
    "import plotly.graph_objects as go\n",
    "\n",
    "# Experimental sequence steps\n",
    "steps = [\n",
    "    dict(name=\"Tweezer Loading\", start=0, duration=10, group=\"Prep\"),\n",
    "    dict(name=\"LAC\", start=10, duration=30, group=\"Control\"),\n",
    "    dict(name=\"Ry Pulse (ON, resonant, P401)\", start=40, duration=0.005, group=\"Manipulation\"),\n",
    "    dict(name=\"Ry Pulse (OFF, off-resonant)\", start=40, duration=0.005, group=\"Manipulation\"),\n",
    "    dict(name=\"Electrodes\", start=40.005, duration=5, group=\"Optional\"),\n",
    "    dict(name=\"Imaging (583)\", start=45.005, duration=10, group=\"Readout\"),\n",
    "    dict(name=\"Imaging (401)\", start=45.005, duration=10, group=\"Readout\"),\n",
    "]\n",
    "\n",
    "colors = {\n",
    "    \"Prep\": \"lightblue\",\n",
    "    \"Control\": \"orange\",\n",
    "    \"Manipulation\": \"lightgreen\",\n",
    "    \"Optional\": \"violet\",\n",
    "    \"Readout\": \"salmon\"\n",
    "}\n",
    "\n",
    "fig = go.Figure()\n",
    "\n",
    "for step in steps:\n",
    "    fig.add_trace(go.Bar(\n",
    "        x=[step[\"duration\"]],\n",
    "        y=[step[\"name\"]],\n",
    "        base=step[\"start\"],\n",
    "        orientation='h',\n",
    "        marker=dict(color=colors[step[\"group\"]]),\n",
    "        name=step[\"group\"],\n",
    "        hovertemplate=f\"{step['name']}<br>Start: {step['start']} ms<br>Duration: {step['duration']} ms<br>Group: {step['group']}<extra></extra>\"\n",
    "    ))\n",
    "\n",
    "# Configure layout\n",
    "fig.update_layout(\n",
    "    title=\"Experimental Sequence Timeline\",\n",
    "    xaxis=dict(title=\"Time (ms)\", range=[0, 60]),\n",
    "    yaxis=dict(title=\"Step\", autorange=\"reversed\"),\n",
    "    barmode='stack',\n",
    "    showlegend=True,\n",
    "    height=400,\n",
    "    margin=dict(l=200, r=50, t=50, b=50),\n",
    ")\n",
    "\n",
    "fig.show()"
   ]
  },
  {
   "cell_type": "code",
   "execution_count": 45,
   "id": "9bcc29ef-4858-414b-bfd3-6264d289c3ce",
   "metadata": {},
   "outputs": [
    {
     "data": {
      "application/vnd.plotly.v1+json": {
       "config": {
        "plotlyServerURL": "https://plot.ly"
       },
       "data": [
        {
         "base": 0,
         "hovertemplate": "Tweezers<br>Start: 0 ms<br>Duration: 20 ms<br>Group: Prep<extra></extra>",
         "insidetextanchor": "start",
         "marker": {
          "color": "turquoise"
         },
         "name": "Prep",
         "orientation": "h",
         "text": "Preparation",
         "textfont": {
          "color": "black",
          "size": 11
         },
         "textposition": "inside",
         "type": "bar",
         "x": [
          20
         ],
         "y": [
          "Tweezers"
         ]
        },
        {
         "base": 10,
         "hovertemplate": "LAC<br>Start: 10 ms<br>Duration: 10 ms<br>Group: Control<extra></extra>",
         "insidetextanchor": "start",
         "marker": {
          "color": "orange"
         },
         "name": "Control",
         "orientation": "h",
         "text": "t=??? ms",
         "textfont": {
          "color": "black",
          "size": 11
         },
         "textposition": "inside",
         "type": "bar",
         "x": [
          10
         ],
         "y": [
          "LAC"
         ]
        },
        {
         "base": 20,
         "hovertemplate": "ZS 401<br>Start: 20 ms<br>Duration: 10 ms<br>Group: Manipulation<extra></extra>",
         "insidetextanchor": "start",
         "marker": {
          "color": "skyblue"
         },
         "name": "Manipulation",
         "orientation": "h",
         "text": "P=0.2 mW, t=5.0 us",
         "textfont": {
          "color": "black",
          "size": 11
         },
         "textposition": "inside",
         "type": "bar",
         "x": [
          10
         ],
         "y": [
          "ZS 401"
         ]
        },
        {
         "base": 20,
         "hovertemplate": "411<br>Start: 20 ms<br>Duration: 10 ms<br>Group: Manipulation<extra></extra>",
         "insidetextanchor": "start",
         "marker": {
          "color": "skyblue"
         },
         "name": "Manipulation",
         "orientation": "h",
         "text": "P=120 mW",
         "textfont": {
          "color": "black",
          "size": 11
         },
         "textposition": "inside",
         "type": "bar",
         "x": [
          10
         ],
         "y": [
          "411"
         ]
        },
        {
         "base": 30,
         "hovertemplate": "HV<br>Start: 30 ms<br>Duration: 5 ms<br>Group: Optional<extra></extra>",
         "insidetextanchor": "start",
         "marker": {
          "color": "violet"
         },
         "name": "Optional",
         "orientation": "h",
         "text": "1400 Vpp, t=5.0 us",
         "textfont": {
          "color": "black",
          "size": 11
         },
         "textposition": "inside",
         "type": "bar",
         "x": [
          5
         ],
         "y": [
          "HV"
         ]
        },
        {
         "base": 35.005,
         "hovertemplate": "Imaging (401)<br>Start: 35.005 ms<br>Duration: 5 ms<br>Group: Readout<extra></extra>",
         "insidetextanchor": "start",
         "marker": {
          "color": "lightgreen"
         },
         "name": "Readout",
         "orientation": "h",
         "text": "XX us",
         "textfont": {
          "color": "black",
          "size": 11
         },
         "textposition": "inside",
         "type": "bar",
         "x": [
          5
         ],
         "y": [
          "Imaging (401)"
         ]
        },
        {
         "base": 30,
         "hovertemplate": "Tweezers<br>Start: 30 ms<br>Duration: 10 ms<br>Group: Prep<extra></extra>",
         "insidetextanchor": "start",
         "marker": {
          "color": "turquoise"
         },
         "name": "Prep",
         "orientation": "h",
         "text": "Recapture",
         "textfont": {
          "color": "black",
          "size": 11
         },
         "textposition": "inside",
         "type": "bar",
         "x": [
          10
         ],
         "y": [
          "Tweezers"
         ]
        }
       ],
       "layout": {
        "autosize": true,
        "barmode": "stack",
        "margin": {
         "b": 50,
         "l": 200,
         "r": 50,
         "t": 50
        },
        "showlegend": false,
        "template": {
         "data": {
          "bar": [
           {
            "error_x": {
             "color": "#2a3f5f"
            },
            "error_y": {
             "color": "#2a3f5f"
            },
            "marker": {
             "line": {
              "color": "#E5ECF6",
              "width": 0.5
             },
             "pattern": {
              "fillmode": "overlay",
              "size": 10,
              "solidity": 0.2
             }
            },
            "type": "bar"
           }
          ],
          "barpolar": [
           {
            "marker": {
             "line": {
              "color": "#E5ECF6",
              "width": 0.5
             },
             "pattern": {
              "fillmode": "overlay",
              "size": 10,
              "solidity": 0.2
             }
            },
            "type": "barpolar"
           }
          ],
          "carpet": [
           {
            "aaxis": {
             "endlinecolor": "#2a3f5f",
             "gridcolor": "white",
             "linecolor": "white",
             "minorgridcolor": "white",
             "startlinecolor": "#2a3f5f"
            },
            "baxis": {
             "endlinecolor": "#2a3f5f",
             "gridcolor": "white",
             "linecolor": "white",
             "minorgridcolor": "white",
             "startlinecolor": "#2a3f5f"
            },
            "type": "carpet"
           }
          ],
          "choropleth": [
           {
            "colorbar": {
             "outlinewidth": 0,
             "ticks": ""
            },
            "type": "choropleth"
           }
          ],
          "contour": [
           {
            "colorbar": {
             "outlinewidth": 0,
             "ticks": ""
            },
            "colorscale": [
             [
              0,
              "#0d0887"
             ],
             [
              0.1111111111111111,
              "#46039f"
             ],
             [
              0.2222222222222222,
              "#7201a8"
             ],
             [
              0.3333333333333333,
              "#9c179e"
             ],
             [
              0.4444444444444444,
              "#bd3786"
             ],
             [
              0.5555555555555556,
              "#d8576b"
             ],
             [
              0.6666666666666666,
              "#ed7953"
             ],
             [
              0.7777777777777778,
              "#fb9f3a"
             ],
             [
              0.8888888888888888,
              "#fdca26"
             ],
             [
              1,
              "#f0f921"
             ]
            ],
            "type": "contour"
           }
          ],
          "contourcarpet": [
           {
            "colorbar": {
             "outlinewidth": 0,
             "ticks": ""
            },
            "type": "contourcarpet"
           }
          ],
          "heatmap": [
           {
            "colorbar": {
             "outlinewidth": 0,
             "ticks": ""
            },
            "colorscale": [
             [
              0,
              "#0d0887"
             ],
             [
              0.1111111111111111,
              "#46039f"
             ],
             [
              0.2222222222222222,
              "#7201a8"
             ],
             [
              0.3333333333333333,
              "#9c179e"
             ],
             [
              0.4444444444444444,
              "#bd3786"
             ],
             [
              0.5555555555555556,
              "#d8576b"
             ],
             [
              0.6666666666666666,
              "#ed7953"
             ],
             [
              0.7777777777777778,
              "#fb9f3a"
             ],
             [
              0.8888888888888888,
              "#fdca26"
             ],
             [
              1,
              "#f0f921"
             ]
            ],
            "type": "heatmap"
           }
          ],
          "heatmapgl": [
           {
            "colorbar": {
             "outlinewidth": 0,
             "ticks": ""
            },
            "colorscale": [
             [
              0,
              "#0d0887"
             ],
             [
              0.1111111111111111,
              "#46039f"
             ],
             [
              0.2222222222222222,
              "#7201a8"
             ],
             [
              0.3333333333333333,
              "#9c179e"
             ],
             [
              0.4444444444444444,
              "#bd3786"
             ],
             [
              0.5555555555555556,
              "#d8576b"
             ],
             [
              0.6666666666666666,
              "#ed7953"
             ],
             [
              0.7777777777777778,
              "#fb9f3a"
             ],
             [
              0.8888888888888888,
              "#fdca26"
             ],
             [
              1,
              "#f0f921"
             ]
            ],
            "type": "heatmapgl"
           }
          ],
          "histogram": [
           {
            "marker": {
             "pattern": {
              "fillmode": "overlay",
              "size": 10,
              "solidity": 0.2
             }
            },
            "type": "histogram"
           }
          ],
          "histogram2d": [
           {
            "colorbar": {
             "outlinewidth": 0,
             "ticks": ""
            },
            "colorscale": [
             [
              0,
              "#0d0887"
             ],
             [
              0.1111111111111111,
              "#46039f"
             ],
             [
              0.2222222222222222,
              "#7201a8"
             ],
             [
              0.3333333333333333,
              "#9c179e"
             ],
             [
              0.4444444444444444,
              "#bd3786"
             ],
             [
              0.5555555555555556,
              "#d8576b"
             ],
             [
              0.6666666666666666,
              "#ed7953"
             ],
             [
              0.7777777777777778,
              "#fb9f3a"
             ],
             [
              0.8888888888888888,
              "#fdca26"
             ],
             [
              1,
              "#f0f921"
             ]
            ],
            "type": "histogram2d"
           }
          ],
          "histogram2dcontour": [
           {
            "colorbar": {
             "outlinewidth": 0,
             "ticks": ""
            },
            "colorscale": [
             [
              0,
              "#0d0887"
             ],
             [
              0.1111111111111111,
              "#46039f"
             ],
             [
              0.2222222222222222,
              "#7201a8"
             ],
             [
              0.3333333333333333,
              "#9c179e"
             ],
             [
              0.4444444444444444,
              "#bd3786"
             ],
             [
              0.5555555555555556,
              "#d8576b"
             ],
             [
              0.6666666666666666,
              "#ed7953"
             ],
             [
              0.7777777777777778,
              "#fb9f3a"
             ],
             [
              0.8888888888888888,
              "#fdca26"
             ],
             [
              1,
              "#f0f921"
             ]
            ],
            "type": "histogram2dcontour"
           }
          ],
          "mesh3d": [
           {
            "colorbar": {
             "outlinewidth": 0,
             "ticks": ""
            },
            "type": "mesh3d"
           }
          ],
          "parcoords": [
           {
            "line": {
             "colorbar": {
              "outlinewidth": 0,
              "ticks": ""
             }
            },
            "type": "parcoords"
           }
          ],
          "pie": [
           {
            "automargin": true,
            "type": "pie"
           }
          ],
          "scatter": [
           {
            "fillpattern": {
             "fillmode": "overlay",
             "size": 10,
             "solidity": 0.2
            },
            "type": "scatter"
           }
          ],
          "scatter3d": [
           {
            "line": {
             "colorbar": {
              "outlinewidth": 0,
              "ticks": ""
             }
            },
            "marker": {
             "colorbar": {
              "outlinewidth": 0,
              "ticks": ""
             }
            },
            "type": "scatter3d"
           }
          ],
          "scattercarpet": [
           {
            "marker": {
             "colorbar": {
              "outlinewidth": 0,
              "ticks": ""
             }
            },
            "type": "scattercarpet"
           }
          ],
          "scattergeo": [
           {
            "marker": {
             "colorbar": {
              "outlinewidth": 0,
              "ticks": ""
             }
            },
            "type": "scattergeo"
           }
          ],
          "scattergl": [
           {
            "marker": {
             "colorbar": {
              "outlinewidth": 0,
              "ticks": ""
             }
            },
            "type": "scattergl"
           }
          ],
          "scattermapbox": [
           {
            "marker": {
             "colorbar": {
              "outlinewidth": 0,
              "ticks": ""
             }
            },
            "type": "scattermapbox"
           }
          ],
          "scatterpolar": [
           {
            "marker": {
             "colorbar": {
              "outlinewidth": 0,
              "ticks": ""
             }
            },
            "type": "scatterpolar"
           }
          ],
          "scatterpolargl": [
           {
            "marker": {
             "colorbar": {
              "outlinewidth": 0,
              "ticks": ""
             }
            },
            "type": "scatterpolargl"
           }
          ],
          "scatterternary": [
           {
            "marker": {
             "colorbar": {
              "outlinewidth": 0,
              "ticks": ""
             }
            },
            "type": "scatterternary"
           }
          ],
          "surface": [
           {
            "colorbar": {
             "outlinewidth": 0,
             "ticks": ""
            },
            "colorscale": [
             [
              0,
              "#0d0887"
             ],
             [
              0.1111111111111111,
              "#46039f"
             ],
             [
              0.2222222222222222,
              "#7201a8"
             ],
             [
              0.3333333333333333,
              "#9c179e"
             ],
             [
              0.4444444444444444,
              "#bd3786"
             ],
             [
              0.5555555555555556,
              "#d8576b"
             ],
             [
              0.6666666666666666,
              "#ed7953"
             ],
             [
              0.7777777777777778,
              "#fb9f3a"
             ],
             [
              0.8888888888888888,
              "#fdca26"
             ],
             [
              1,
              "#f0f921"
             ]
            ],
            "type": "surface"
           }
          ],
          "table": [
           {
            "cells": {
             "fill": {
              "color": "#EBF0F8"
             },
             "line": {
              "color": "white"
             }
            },
            "header": {
             "fill": {
              "color": "#C8D4E3"
             },
             "line": {
              "color": "white"
             }
            },
            "type": "table"
           }
          ]
         },
         "layout": {
          "annotationdefaults": {
           "arrowcolor": "#2a3f5f",
           "arrowhead": 0,
           "arrowwidth": 1
          },
          "autotypenumbers": "strict",
          "coloraxis": {
           "colorbar": {
            "outlinewidth": 0,
            "ticks": ""
           }
          },
          "colorscale": {
           "diverging": [
            [
             0,
             "#8e0152"
            ],
            [
             0.1,
             "#c51b7d"
            ],
            [
             0.2,
             "#de77ae"
            ],
            [
             0.3,
             "#f1b6da"
            ],
            [
             0.4,
             "#fde0ef"
            ],
            [
             0.5,
             "#f7f7f7"
            ],
            [
             0.6,
             "#e6f5d0"
            ],
            [
             0.7,
             "#b8e186"
            ],
            [
             0.8,
             "#7fbc41"
            ],
            [
             0.9,
             "#4d9221"
            ],
            [
             1,
             "#276419"
            ]
           ],
           "sequential": [
            [
             0,
             "#0d0887"
            ],
            [
             0.1111111111111111,
             "#46039f"
            ],
            [
             0.2222222222222222,
             "#7201a8"
            ],
            [
             0.3333333333333333,
             "#9c179e"
            ],
            [
             0.4444444444444444,
             "#bd3786"
            ],
            [
             0.5555555555555556,
             "#d8576b"
            ],
            [
             0.6666666666666666,
             "#ed7953"
            ],
            [
             0.7777777777777778,
             "#fb9f3a"
            ],
            [
             0.8888888888888888,
             "#fdca26"
            ],
            [
             1,
             "#f0f921"
            ]
           ],
           "sequentialminus": [
            [
             0,
             "#0d0887"
            ],
            [
             0.1111111111111111,
             "#46039f"
            ],
            [
             0.2222222222222222,
             "#7201a8"
            ],
            [
             0.3333333333333333,
             "#9c179e"
            ],
            [
             0.4444444444444444,
             "#bd3786"
            ],
            [
             0.5555555555555556,
             "#d8576b"
            ],
            [
             0.6666666666666666,
             "#ed7953"
            ],
            [
             0.7777777777777778,
             "#fb9f3a"
            ],
            [
             0.8888888888888888,
             "#fdca26"
            ],
            [
             1,
             "#f0f921"
            ]
           ]
          },
          "colorway": [
           "#636efa",
           "#EF553B",
           "#00cc96",
           "#ab63fa",
           "#FFA15A",
           "#19d3f3",
           "#FF6692",
           "#B6E880",
           "#FF97FF",
           "#FECB52"
          ],
          "font": {
           "color": "#2a3f5f"
          },
          "geo": {
           "bgcolor": "white",
           "lakecolor": "white",
           "landcolor": "#E5ECF6",
           "showlakes": true,
           "showland": true,
           "subunitcolor": "white"
          },
          "hoverlabel": {
           "align": "left"
          },
          "hovermode": "closest",
          "mapbox": {
           "style": "light"
          },
          "paper_bgcolor": "white",
          "plot_bgcolor": "#E5ECF6",
          "polar": {
           "angularaxis": {
            "gridcolor": "white",
            "linecolor": "white",
            "ticks": ""
           },
           "bgcolor": "#E5ECF6",
           "radialaxis": {
            "gridcolor": "white",
            "linecolor": "white",
            "ticks": ""
           }
          },
          "scene": {
           "xaxis": {
            "backgroundcolor": "#E5ECF6",
            "gridcolor": "white",
            "gridwidth": 2,
            "linecolor": "white",
            "showbackground": true,
            "ticks": "",
            "zerolinecolor": "white"
           },
           "yaxis": {
            "backgroundcolor": "#E5ECF6",
            "gridcolor": "white",
            "gridwidth": 2,
            "linecolor": "white",
            "showbackground": true,
            "ticks": "",
            "zerolinecolor": "white"
           },
           "zaxis": {
            "backgroundcolor": "#E5ECF6",
            "gridcolor": "white",
            "gridwidth": 2,
            "linecolor": "white",
            "showbackground": true,
            "ticks": "",
            "zerolinecolor": "white"
           }
          },
          "shapedefaults": {
           "line": {
            "color": "#2a3f5f"
           }
          },
          "ternary": {
           "aaxis": {
            "gridcolor": "white",
            "linecolor": "white",
            "ticks": ""
           },
           "baxis": {
            "gridcolor": "white",
            "linecolor": "white",
            "ticks": ""
           },
           "bgcolor": "#E5ECF6",
           "caxis": {
            "gridcolor": "white",
            "linecolor": "white",
            "ticks": ""
           }
          },
          "title": {
           "x": 0.05
          },
          "xaxis": {
           "automargin": true,
           "gridcolor": "white",
           "linecolor": "white",
           "ticks": "",
           "title": {
            "standoff": 15
           },
           "zerolinecolor": "white",
           "zerolinewidth": 2
          },
          "yaxis": {
           "automargin": true,
           "gridcolor": "white",
           "linecolor": "white",
           "ticks": "",
           "title": {
            "standoff": 15
           },
           "zerolinecolor": "white",
           "zerolinewidth": 2
          }
         }
        },
        "title": {
         "text": "Experimental Sequence Timeline"
        },
        "xaxis": {
         "range": [
          0,
          40
         ],
         "title": {
          "text": "Time (steps)"
         },
         "type": "linear"
        },
        "yaxis": {
         "autorange": true,
         "range": [
          5.5,
          -0.5
         ],
         "title": {
          "text": "Step"
         },
         "type": "category"
        }
       }
      },
      "image/png": "[encoded data removed]",
      "text/html": [
       "<div>                            <div id=\"14b6c6ae-2de5-48e6-b040-1159b12404c8\" class=\"plotly-graph-div\" style=\"height:500px; width:100%;\"></div>            <script type=\"text/javascript\">                require([\"plotly\"], function(Plotly) {                    window.PLOTLYENV=window.PLOTLYENV || {};                                    if (document.getElementById(\"14b6c6ae-2de5-48e6-b040-1159b12404c8\")) {                    Plotly.newPlot(                        \"14b6c6ae-2de5-48e6-b040-1159b12404c8\",                        [{\"base\":0,\"hovertemplate\":\"Tweezers<br>Start: 0 ms<br>Duration: 20 ms<br>Group: Prep<extra></extra>\",\"insidetextanchor\":\"start\",\"marker\":{\"color\":\"turquoise\"},\"name\":\"Prep\",\"orientation\":\"h\",\"text\":\"Preparation\",\"textfont\":{\"color\":\"black\",\"size\":11},\"textposition\":\"inside\",\"x\":[20],\"y\":[\"Tweezers\"],\"type\":\"bar\"},{\"base\":10,\"hovertemplate\":\"LAC<br>Start: 10 ms<br>Duration: 10 ms<br>Group: Control<extra></extra>\",\"insidetextanchor\":\"start\",\"marker\":{\"color\":\"orange\"},\"name\":\"Control\",\"orientation\":\"h\",\"text\":\"t=??? ms\",\"textfont\":{\"color\":\"black\",\"size\":11},\"textposition\":\"inside\",\"x\":[10],\"y\":[\"LAC\"],\"type\":\"bar\"},{\"base\":20,\"hovertemplate\":\"ZS 401<br>Start: 20 ms<br>Duration: 10 ms<br>Group: Manipulation<extra></extra>\",\"insidetextanchor\":\"start\",\"marker\":{\"color\":\"skyblue\"},\"name\":\"Manipulation\",\"orientation\":\"h\",\"text\":\"P=0.2 mW, t=5.0 us\",\"textfont\":{\"color\":\"black\",\"size\":11},\"textposition\":\"inside\",\"x\":[10],\"y\":[\"ZS 401\"],\"type\":\"bar\"},{\"base\":20,\"hovertemplate\":\"411<br>Start: 20 ms<br>Duration: 10 ms<br>Group: Manipulation<extra></extra>\",\"insidetextanchor\":\"start\",\"marker\":{\"color\":\"skyblue\"},\"name\":\"Manipulation\",\"orientation\":\"h\",\"text\":\"P=120 mW\",\"textfont\":{\"color\":\"black\",\"size\":11},\"textposition\":\"inside\",\"x\":[10],\"y\":[\"411\"],\"type\":\"bar\"},{\"base\":30,\"hovertemplate\":\"HV<br>Start: 30 ms<br>Duration: 5 ms<br>Group: Optional<extra></extra>\",\"insidetextanchor\":\"start\",\"marker\":{\"color\":\"violet\"},\"name\":\"Optional\",\"orientation\":\"h\",\"text\":\"1400 Vpp, t=5.0 us\",\"textfont\":{\"color\":\"black\",\"size\":11},\"textposition\":\"inside\",\"x\":[5],\"y\":[\"HV\"],\"type\":\"bar\"},{\"base\":35.005,\"hovertemplate\":\"Imaging (401)<br>Start: 35.005 ms<br>Duration: 5 ms<br>Group: Readout<extra></extra>\",\"insidetextanchor\":\"start\",\"marker\":{\"color\":\"lightgreen\"},\"name\":\"Readout\",\"orientation\":\"h\",\"text\":\"XX us\",\"textfont\":{\"color\":\"black\",\"size\":11},\"textposition\":\"inside\",\"x\":[5],\"y\":[\"Imaging (401)\"],\"type\":\"bar\"},{\"base\":30,\"hovertemplate\":\"Tweezers<br>Start: 30 ms<br>Duration: 10 ms<br>Group: Prep<extra></extra>\",\"insidetextanchor\":\"start\",\"marker\":{\"color\":\"turquoise\"},\"name\":\"Prep\",\"orientation\":\"h\",\"text\":\"Recapture\",\"textfont\":{\"color\":\"black\",\"size\":11},\"textposition\":\"inside\",\"x\":[10],\"y\":[\"Tweezers\"],\"type\":\"bar\"}],                        {\"template\":{\"data\":{\"histogram2dcontour\":[{\"type\":\"histogram2dcontour\",\"colorbar\":{\"outlinewidth\":0,\"ticks\":\"\"},\"colorscale\":[[0.0,\"#0d0887\"],[0.1111111111111111,\"#46039f\"],[0.2222222222222222,\"#7201a8\"],[0.3333333333333333,\"#9c179e\"],[0.4444444444444444,\"#bd3786\"],[0.5555555555555556,\"#d8576b\"],[0.6666666666666666,\"#ed7953\"],[0.7777777777777778,\"#fb9f3a\"],[0.8888888888888888,\"#fdca26\"],[1.0,\"#f0f921\"]]}],\"choropleth\":[{\"type\":\"choropleth\",\"colorbar\":{\"outlinewidth\":0,\"ticks\":\"\"}}],\"histogram2d\":[{\"type\":\"histogram2d\",\"colorbar\":{\"outlinewidth\":0,\"ticks\":\"\"},\"colorscale\":[[0.0,\"#0d0887\"],[0.1111111111111111,\"#46039f\"],[0.2222222222222222,\"#7201a8\"],[0.3333333333333333,\"#9c179e\"],[0.4444444444444444,\"#bd3786\"],[0.5555555555555556,\"#d8576b\"],[0.6666666666666666,\"#ed7953\"],[0.7777777777777778,\"#fb9f3a\"],[0.8888888888888888,\"#fdca26\"],[1.0,\"#f0f921\"]]}],\"heatmap\":[{\"type\":\"heatmap\",\"colorbar\":{\"outlinewidth\":0,\"ticks\":\"\"},\"colorscale\":[[0.0,\"#0d0887\"],[0.1111111111111111,\"#46039f\"],[0.2222222222222222,\"#7201a8\"],[0.3333333333333333,\"#9c179e\"],[0.4444444444444444,\"#bd3786\"],[0.5555555555555556,\"#d8576b\"],[0.6666666666666666,\"#ed7953\"],[0.7777777777777778,\"#fb9f3a\"],[0.8888888888888888,\"#fdca26\"],[1.0,\"#f0f921\"]]}],\"heatmapgl\":[{\"type\":\"heatmapgl\",\"colorbar\":{\"outlinewidth\":0,\"ticks\":\"\"},\"colorscale\":[[0.0,\"#0d0887\"],[0.1111111111111111,\"#46039f\"],[0.2222222222222222,\"#7201a8\"],[0.3333333333333333,\"#9c179e\"],[0.4444444444444444,\"#bd3786\"],[0.5555555555555556,\"#d8576b\"],[0.6666666666666666,\"#ed7953\"],[0.7777777777777778,\"#fb9f3a\"],[0.8888888888888888,\"#fdca26\"],[1.0,\"#f0f921\"]]}],\"contourcarpet\":[{\"type\":\"contourcarpet\",\"colorbar\":{\"outlinewidth\":0,\"ticks\":\"\"}}],\"contour\":[{\"type\":\"contour\",\"colorbar\":{\"outlinewidth\":0,\"ticks\":\"\"},\"colorscale\":[[0.0,\"#0d0887\"],[0.1111111111111111,\"#46039f\"],[0.2222222222222222,\"#7201a8\"],[0.3333333333333333,\"#9c179e\"],[0.4444444444444444,\"#bd3786\"],[0.5555555555555556,\"#d8576b\"],[0.6666666666666666,\"#ed7953\"],[0.7777777777777778,\"#fb9f3a\"],[0.8888888888888888,\"#fdca26\"],[1.0,\"#f0f921\"]]}],\"surface\":[{\"type\":\"surface\",\"colorbar\":{\"outlinewidth\":0,\"ticks\":\"\"},\"colorscale\":[[0.0,\"#0d0887\"],[0.1111111111111111,\"#46039f\"],[0.2222222222222222,\"#7201a8\"],[0.3333333333333333,\"#9c179e\"],[0.4444444444444444,\"#bd3786\"],[0.5555555555555556,\"#d8576b\"],[0.6666666666666666,\"#ed7953\"],[0.7777777777777778,\"#fb9f3a\"],[0.8888888888888888,\"#fdca26\"],[1.0,\"#f0f921\"]]}],\"mesh3d\":[{\"type\":\"mesh3d\",\"colorbar\":{\"outlinewidth\":0,\"ticks\":\"\"}}],\"scatter\":[{\"fillpattern\":{\"fillmode\":\"overlay\",\"size\":10,\"solidity\":0.2},\"type\":\"scatter\"}],\"parcoords\":[{\"type\":\"parcoords\",\"line\":{\"colorbar\":{\"outlinewidth\":0,\"ticks\":\"\"}}}],\"scatterpolargl\":[{\"type\":\"scatterpolargl\",\"marker\":{\"colorbar\":{\"outlinewidth\":0,\"ticks\":\"\"}}}],\"bar\":[{\"error_x\":{\"color\":\"#2a3f5f\"},\"error_y\":{\"color\":\"#2a3f5f\"},\"marker\":{\"line\":{\"color\":\"#E5ECF6\",\"width\":0.5},\"pattern\":{\"fillmode\":\"overlay\",\"size\":10,\"solidity\":0.2}},\"type\":\"bar\"}],\"scattergeo\":[{\"type\":\"scattergeo\",\"marker\":{\"colorbar\":{\"outlinewidth\":0,\"ticks\":\"\"}}}],\"scatterpolar\":[{\"type\":\"scatterpolar\",\"marker\":{\"colorbar\":{\"outlinewidth\":0,\"ticks\":\"\"}}}],\"histogram\":[{\"marker\":{\"pattern\":{\"fillmode\":\"overlay\",\"size\":10,\"solidity\":0.2}},\"type\":\"histogram\"}],\"scattergl\":[{\"type\":\"scattergl\",\"marker\":{\"colorbar\":{\"outlinewidth\":0,\"ticks\":\"\"}}}],\"scatter3d\":[{\"type\":\"scatter3d\",\"line\":{\"colorbar\":{\"outlinewidth\":0,\"ticks\":\"\"}},\"marker\":{\"colorbar\":{\"outlinewidth\":0,\"ticks\":\"\"}}}],\"scattermapbox\":[{\"type\":\"scattermapbox\",\"marker\":{\"colorbar\":{\"outlinewidth\":0,\"ticks\":\"\"}}}],\"scatterternary\":[{\"type\":\"scatterternary\",\"marker\":{\"colorbar\":{\"outlinewidth\":0,\"ticks\":\"\"}}}],\"scattercarpet\":[{\"type\":\"scattercarpet\",\"marker\":{\"colorbar\":{\"outlinewidth\":0,\"ticks\":\"\"}}}],\"carpet\":[{\"aaxis\":{\"endlinecolor\":\"#2a3f5f\",\"gridcolor\":\"white\",\"linecolor\":\"white\",\"minorgridcolor\":\"white\",\"startlinecolor\":\"#2a3f5f\"},\"baxis\":{\"endlinecolor\":\"#2a3f5f\",\"gridcolor\":\"white\",\"linecolor\":\"white\",\"minorgridcolor\":\"white\",\"startlinecolor\":\"#2a3f5f\"},\"type\":\"carpet\"}],\"table\":[{\"cells\":{\"fill\":{\"color\":\"#EBF0F8\"},\"line\":{\"color\":\"white\"}},\"header\":{\"fill\":{\"color\":\"#C8D4E3\"},\"line\":{\"color\":\"white\"}},\"type\":\"table\"}],\"barpolar\":[{\"marker\":{\"line\":{\"color\":\"#E5ECF6\",\"width\":0.5},\"pattern\":{\"fillmode\":\"overlay\",\"size\":10,\"solidity\":0.2}},\"type\":\"barpolar\"}],\"pie\":[{\"automargin\":true,\"type\":\"pie\"}]},\"layout\":{\"autotypenumbers\":\"strict\",\"colorway\":[\"#636efa\",\"#EF553B\",\"#00cc96\",\"#ab63fa\",\"#FFA15A\",\"#19d3f3\",\"#FF6692\",\"#B6E880\",\"#FF97FF\",\"#FECB52\"],\"font\":{\"color\":\"#2a3f5f\"},\"hovermode\":\"closest\",\"hoverlabel\":{\"align\":\"left\"},\"paper_bgcolor\":\"white\",\"plot_bgcolor\":\"#E5ECF6\",\"polar\":{\"bgcolor\":\"#E5ECF6\",\"angularaxis\":{\"gridcolor\":\"white\",\"linecolor\":\"white\",\"ticks\":\"\"},\"radialaxis\":{\"gridcolor\":\"white\",\"linecolor\":\"white\",\"ticks\":\"\"}},\"ternary\":{\"bgcolor\":\"#E5ECF6\",\"aaxis\":{\"gridcolor\":\"white\",\"linecolor\":\"white\",\"ticks\":\"\"},\"baxis\":{\"gridcolor\":\"white\",\"linecolor\":\"white\",\"ticks\":\"\"},\"caxis\":{\"gridcolor\":\"white\",\"linecolor\":\"white\",\"ticks\":\"\"}},\"coloraxis\":{\"colorbar\":{\"outlinewidth\":0,\"ticks\":\"\"}},\"colorscale\":{\"sequential\":[[0.0,\"#0d0887\"],[0.1111111111111111,\"#46039f\"],[0.2222222222222222,\"#7201a8\"],[0.3333333333333333,\"#9c179e\"],[0.4444444444444444,\"#bd3786\"],[0.5555555555555556,\"#d8576b\"],[0.6666666666666666,\"#ed7953\"],[0.7777777777777778,\"#fb9f3a\"],[0.8888888888888888,\"#fdca26\"],[1.0,\"#f0f921\"]],\"sequentialminus\":[[0.0,\"#0d0887\"],[0.1111111111111111,\"#46039f\"],[0.2222222222222222,\"#7201a8\"],[0.3333333333333333,\"#9c179e\"],[0.4444444444444444,\"#bd3786\"],[0.5555555555555556,\"#d8576b\"],[0.6666666666666666,\"#ed7953\"],[0.7777777777777778,\"#fb9f3a\"],[0.8888888888888888,\"#fdca26\"],[1.0,\"#f0f921\"]],\"diverging\":[[0,\"#8e0152\"],[0.1,\"#c51b7d\"],[0.2,\"#de77ae\"],[0.3,\"#f1b6da\"],[0.4,\"#fde0ef\"],[0.5,\"#f7f7f7\"],[0.6,\"#e6f5d0\"],[0.7,\"#b8e186\"],[0.8,\"#7fbc41\"],[0.9,\"#4d9221\"],[1,\"#276419\"]]},\"xaxis\":{\"gridcolor\":\"white\",\"linecolor\":\"white\",\"ticks\":\"\",\"title\":{\"standoff\":15},\"zerolinecolor\":\"white\",\"automargin\":true,\"zerolinewidth\":2},\"yaxis\":{\"gridcolor\":\"white\",\"linecolor\":\"white\",\"ticks\":\"\",\"title\":{\"standoff\":15},\"zerolinecolor\":\"white\",\"automargin\":true,\"zerolinewidth\":2},\"scene\":{\"xaxis\":{\"backgroundcolor\":\"#E5ECF6\",\"gridcolor\":\"white\",\"linecolor\":\"white\",\"showbackground\":true,\"ticks\":\"\",\"zerolinecolor\":\"white\",\"gridwidth\":2},\"yaxis\":{\"backgroundcolor\":\"#E5ECF6\",\"gridcolor\":\"white\",\"linecolor\":\"white\",\"showbackground\":true,\"ticks\":\"\",\"zerolinecolor\":\"white\",\"gridwidth\":2},\"zaxis\":{\"backgroundcolor\":\"#E5ECF6\",\"gridcolor\":\"white\",\"linecolor\":\"white\",\"showbackground\":true,\"ticks\":\"\",\"zerolinecolor\":\"white\",\"gridwidth\":2}},\"shapedefaults\":{\"line\":{\"color\":\"#2a3f5f\"}},\"annotationdefaults\":{\"arrowcolor\":\"#2a3f5f\",\"arrowhead\":0,\"arrowwidth\":1},\"geo\":{\"bgcolor\":\"white\",\"landcolor\":\"#E5ECF6\",\"subunitcolor\":\"white\",\"showland\":true,\"showlakes\":true,\"lakecolor\":\"white\"},\"title\":{\"x\":0.05},\"mapbox\":{\"style\":\"light\"}}},\"xaxis\":{\"title\":{\"text\":\"Time (steps)\"},\"range\":[0,40]},\"yaxis\":{\"title\":{\"text\":\"Step\"},\"autorange\":\"reversed\"},\"margin\":{\"l\":200,\"r\":50,\"t\":50,\"b\":50},\"title\":{\"text\":\"Experimental Sequence Timeline\"},\"barmode\":\"stack\",\"showlegend\":false,\"height\":500},                        {\"responsive\": true}                    ).then(function(){\n",
       "                            \n",
       "var gd = document.getElementById('14b6c6ae-2de5-48e6-b040-1159b12404c8');\n",
       "var x = new MutationObserver(function (mutations, observer) {{\n",
       "        var display = window.getComputedStyle(gd).display;\n",
       "        if (!display || display === 'none') {{\n",
       "            console.log([gd, 'removed!']);\n",
       "            Plotly.purge(gd);\n",
       "            observer.disconnect();\n",
       "        }}\n",
       "}});\n",
       "\n",
       "// Listen for the removal of the full notebook cells\n",
       "var notebookContainer = gd.closest('#notebook-container');\n",
       "if (notebookContainer) {{\n",
       "    x.observe(notebookContainer, {childList: true});\n",
       "}}\n",
       "\n",
       "// Listen for the clearing of the current output cell\n",
       "var outputEl = gd.closest('.output');\n",
       "if (outputEl) {{\n",
       "    x.observe(outputEl, {childList: true});\n",
       "}}\n",
       "\n",
       "                        })                };                });            </script>        </div>"
      ]
     },
     "metadata": {},
     "output_type": "display_data"
    }
   ],
   "source": [
    "import plotly.graph_objects as go\n",
    "# Parameters that I load from dataframe:\n",
    "\n",
    "Ryd401ZS_time = 0.005; #(0.005 ms)\n",
    "Ryd401ZS_SP = 0.2; #(0.2 mW)\n",
    "PID411_SP = 120; #(120)\n",
    "OnOffTwduringRydbergTweezers = 1;\n",
    "IonizationPulseDuration = 0.005; \n",
    "ImagingLight_wavelength = 401;\n",
    "FieldIonize = 0;\n",
    "doTweezer583LACs=1;\n",
    "LACs583_time = 30; \n",
    "MOT_loadtime = 100;\n",
    "\n",
    "# Experimental sequence steps\n",
    "steps = [\n",
    "    dict(name=\"Tweezers\", start=0, duration=20, group=\"Prep\", label=\"Preparation\"),\n",
    "    dict(name=\"LAC\", start=10, duration=10, group=\"Control\", label=\"t=??? ms\"),\n",
    "    dict(name=\"ZS 401\", start=20, duration=10, group=\"Manipulation\", label=f\"P={Ryd401ZS_SP} mW, t={Ryd401ZS_time*1e3} us\"),\n",
    "    dict(name=\"411\", start=20, duration=10, group=\"Manipulation\", label=f\"P={PID411_SP} mW\"),\n",
    "    dict(name=\"HV\", start=30, duration=5, group=\"Optional\", label=f\"1400 Vpp, t={IonizationPulseDuration*1e3} us\"),\n",
    "]\n",
    "\n",
    "# choose imaging, depending on which camera is on\n",
    "if ImagingLight_wavelength == 401:\n",
    "    steps.append(dict(name=\"Imaging (401)\", start=35.005, duration=5, group=\"Readout\", label=\"pulsed\"))\n",
    "elif ImagingLight_wavelength == 583:\n",
    "    steps.append(dict(name=\"Imaging (401)\", start=35.005, duration=5, group=\"Readout\", label=\"XX ms\"))\n",
    "else:\n",
    "    print()\n",
    "    \n",
    "# tweezers?\n",
    "if OnOffTwduringRydbergTweezers ==0:\n",
    "    steps.append(dict(name=\"Tweezers\", start=20, duration=20, group=\"Prep\", label=\"\"))\n",
    "else:\n",
    "    steps.append(dict(name=\"Tweezers\", start=30, duration=10, group=\"Prep\", label=\"Recapture\"))\n",
    "\n",
    "# Assign colors per group\n",
    "colors = {\n",
    "    \"Prep\": \"turquoise\",\n",
    "    \"Control\": \"orange\",\n",
    "    \"Manipulation\": \"skyblue\",\n",
    "    \"Optional\": \"violet\",\n",
    "    \"Readout\": \"lightgreen\"\n",
    "}\n",
    "\n",
    "fig = go.Figure()\n",
    "\n",
    "for step in steps:\n",
    "    fig.add_trace(go.Bar(\n",
    "        x=[step[\"duration\"]],\n",
    "        y=[step[\"name\"]],\n",
    "        base=step[\"start\"],\n",
    "        orientation='h',\n",
    "        marker=dict(color=colors[step[\"group\"]]),\n",
    "        name=step[\"group\"],\n",
    "        hovertemplate=f\"{step['name']}<br>Start: {step['start']} ms<br>Duration: {step['duration']} ms<br>Group: {step['group']}<extra></extra>\",\n",
    "        text=step[\"label\"], # text=f\"{step['name']}\",        # ✅ This adds the label\n",
    "        textposition=\"inside\",         # Can also use \"outside\", \"auto\", etc.\n",
    "        insidetextanchor=\"start\",      # Aligns the label at the start of the bar\n",
    "        textfont=dict(color=\"black\", size=11)\n",
    "    ))\n",
    "\n",
    "# Layout customization\n",
    "fig.update_layout(\n",
    "    title=\"Experimental Sequence Timeline\",\n",
    "    xaxis=dict(title=\"Time (steps)\", range=[0, 40]),\n",
    "    yaxis=dict(title=\"Step\", autorange=\"reversed\"),\n",
    "    barmode='stack',\n",
    "    showlegend=False,\n",
    "    height=500,\n",
    "    margin=dict(l=200, r=50, t=50, b=50),\n",
    ")\n",
    "\n",
    "fig.show()\n"
   ]
  },
  {
   "cell_type": "code",
   "execution_count": 11,
   "id": "53a3896c-9aa3-4def-b34d-ae2496851793",
   "metadata": {},
   "outputs": [
    {
     "data": {
      "application/vnd.plotly.v1+json": {
       "config": {
        "plotlyServerURL": "https://plot.ly"
       },
       "data": [
        {
         "marker": {
          "color": "#636EFA"
         },
         "orientation": "h",
         "showlegend": false,
         "text": "#636EFA",
         "textposition": "inside",
         "type": "bar",
         "x": [
          1
         ],
         "y": [
          "1: #636EFA"
         ]
        },
        {
         "marker": {
          "color": "#EF553B"
         },
         "orientation": "h",
         "showlegend": false,
         "text": "#EF553B",
         "textposition": "inside",
         "type": "bar",
         "x": [
          1
         ],
         "y": [
          "2: #EF553B"
         ]
        },
        {
         "marker": {
          "color": "#00CC96"
         },
         "orientation": "h",
         "showlegend": false,
         "text": "#00CC96",
         "textposition": "inside",
         "type": "bar",
         "x": [
          1
         ],
         "y": [
          "3: #00CC96"
         ]
        },
        {
         "marker": {
          "color": "#AB63FA"
         },
         "orientation": "h",
         "showlegend": false,
         "text": "#AB63FA",
         "textposition": "inside",
         "type": "bar",
         "x": [
          1
         ],
         "y": [
          "4: #AB63FA"
         ]
        },
        {
         "marker": {
          "color": "#FFA15A"
         },
         "orientation": "h",
         "showlegend": false,
         "text": "#FFA15A",
         "textposition": "inside",
         "type": "bar",
         "x": [
          1
         ],
         "y": [
          "5: #FFA15A"
         ]
        },
        {
         "marker": {
          "color": "#19D3F3"
         },
         "orientation": "h",
         "showlegend": false,
         "text": "#19D3F3",
         "textposition": "inside",
         "type": "bar",
         "x": [
          1
         ],
         "y": [
          "6: #19D3F3"
         ]
        },
        {
         "marker": {
          "color": "#FF6692"
         },
         "orientation": "h",
         "showlegend": false,
         "text": "#FF6692",
         "textposition": "inside",
         "type": "bar",
         "x": [
          1
         ],
         "y": [
          "7: #FF6692"
         ]
        },
        {
         "marker": {
          "color": "#B6E880"
         },
         "orientation": "h",
         "showlegend": false,
         "text": "#B6E880",
         "textposition": "inside",
         "type": "bar",
         "x": [
          1
         ],
         "y": [
          "8: #B6E880"
         ]
        },
        {
         "marker": {
          "color": "#FF97FF"
         },
         "orientation": "h",
         "showlegend": false,
         "text": "#FF97FF",
         "textposition": "inside",
         "type": "bar",
         "x": [
          1
         ],
         "y": [
          "9: #FF97FF"
         ]
        },
        {
         "marker": {
          "color": "#FECB52"
         },
         "orientation": "h",
         "showlegend": false,
         "text": "#FECB52",
         "textposition": "inside",
         "type": "bar",
         "x": [
          1
         ],
         "y": [
          "10: #FECB52"
         ]
        }
       ],
       "layout": {
        "autosize": true,
        "margin": {
         "b": 50,
         "l": 50,
         "r": 50,
         "t": 50
        },
        "template": {
         "data": {
          "bar": [
           {
            "error_x": {
             "color": "#2a3f5f"
            },
            "error_y": {
             "color": "#2a3f5f"
            },
            "marker": {
             "line": {
              "color": "#E5ECF6",
              "width": 0.5
             },
             "pattern": {
              "fillmode": "overlay",
              "size": 10,
              "solidity": 0.2
             }
            },
            "type": "bar"
           }
          ],
          "barpolar": [
           {
            "marker": {
             "line": {
              "color": "#E5ECF6",
              "width": 0.5
             },
             "pattern": {
              "fillmode": "overlay",
              "size": 10,
              "solidity": 0.2
             }
            },
            "type": "barpolar"
           }
          ],
          "carpet": [
           {
            "aaxis": {
             "endlinecolor": "#2a3f5f",
             "gridcolor": "white",
             "linecolor": "white",
             "minorgridcolor": "white",
             "startlinecolor": "#2a3f5f"
            },
            "baxis": {
             "endlinecolor": "#2a3f5f",
             "gridcolor": "white",
             "linecolor": "white",
             "minorgridcolor": "white",
             "startlinecolor": "#2a3f5f"
            },
            "type": "carpet"
           }
          ],
          "choropleth": [
           {
            "colorbar": {
             "outlinewidth": 0,
             "ticks": ""
            },
            "type": "choropleth"
           }
          ],
          "contour": [
           {
            "colorbar": {
             "outlinewidth": 0,
             "ticks": ""
            },
            "colorscale": [
             [
              0,
              "#0d0887"
             ],
             [
              0.1111111111111111,
              "#46039f"
             ],
             [
              0.2222222222222222,
              "#7201a8"
             ],
             [
              0.3333333333333333,
              "#9c179e"
             ],
             [
              0.4444444444444444,
              "#bd3786"
             ],
             [
              0.5555555555555556,
              "#d8576b"
             ],
             [
              0.6666666666666666,
              "#ed7953"
             ],
             [
              0.7777777777777778,
              "#fb9f3a"
             ],
             [
              0.8888888888888888,
              "#fdca26"
             ],
             [
              1,
              "#f0f921"
             ]
            ],
            "type": "contour"
           }
          ],
          "contourcarpet": [
           {
            "colorbar": {
             "outlinewidth": 0,
             "ticks": ""
            },
            "type": "contourcarpet"
           }
          ],
          "heatmap": [
           {
            "colorbar": {
             "outlinewidth": 0,
             "ticks": ""
            },
            "colorscale": [
             [
              0,
              "#0d0887"
             ],
             [
              0.1111111111111111,
              "#46039f"
             ],
             [
              0.2222222222222222,
              "#7201a8"
             ],
             [
              0.3333333333333333,
              "#9c179e"
             ],
             [
              0.4444444444444444,
              "#bd3786"
             ],
             [
              0.5555555555555556,
              "#d8576b"
             ],
             [
              0.6666666666666666,
              "#ed7953"
             ],
             [
              0.7777777777777778,
              "#fb9f3a"
             ],
             [
              0.8888888888888888,
              "#fdca26"
             ],
             [
              1,
              "#f0f921"
             ]
            ],
            "type": "heatmap"
           }
          ],
          "heatmapgl": [
           {
            "colorbar": {
             "outlinewidth": 0,
             "ticks": ""
            },
            "colorscale": [
             [
              0,
              "#0d0887"
             ],
             [
              0.1111111111111111,
              "#46039f"
             ],
             [
              0.2222222222222222,
              "#7201a8"
             ],
             [
              0.3333333333333333,
              "#9c179e"
             ],
             [
              0.4444444444444444,
              "#bd3786"
             ],
             [
              0.5555555555555556,
              "#d8576b"
             ],
             [
              0.6666666666666666,
              "#ed7953"
             ],
             [
              0.7777777777777778,
              "#fb9f3a"
             ],
             [
              0.8888888888888888,
              "#fdca26"
             ],
             [
              1,
              "#f0f921"
             ]
            ],
            "type": "heatmapgl"
           }
          ],
          "histogram": [
           {
            "marker": {
             "pattern": {
              "fillmode": "overlay",
              "size": 10,
              "solidity": 0.2
             }
            },
            "type": "histogram"
           }
          ],
          "histogram2d": [
           {
            "colorbar": {
             "outlinewidth": 0,
             "ticks": ""
            },
            "colorscale": [
             [
              0,
              "#0d0887"
             ],
             [
              0.1111111111111111,
              "#46039f"
             ],
             [
              0.2222222222222222,
              "#7201a8"
             ],
             [
              0.3333333333333333,
              "#9c179e"
             ],
             [
              0.4444444444444444,
              "#bd3786"
             ],
             [
              0.5555555555555556,
              "#d8576b"
             ],
             [
              0.6666666666666666,
              "#ed7953"
             ],
             [
              0.7777777777777778,
              "#fb9f3a"
             ],
             [
              0.8888888888888888,
              "#fdca26"
             ],
             [
              1,
              "#f0f921"
             ]
            ],
            "type": "histogram2d"
           }
          ],
          "histogram2dcontour": [
           {
            "colorbar": {
             "outlinewidth": 0,
             "ticks": ""
            },
            "colorscale": [
             [
              0,
              "#0d0887"
             ],
             [
              0.1111111111111111,
              "#46039f"
             ],
             [
              0.2222222222222222,
              "#7201a8"
             ],
             [
              0.3333333333333333,
              "#9c179e"
             ],
             [
              0.4444444444444444,
              "#bd3786"
             ],
             [
              0.5555555555555556,
              "#d8576b"
             ],
             [
              0.6666666666666666,
              "#ed7953"
             ],
             [
              0.7777777777777778,
              "#fb9f3a"
             ],
             [
              0.8888888888888888,
              "#fdca26"
             ],
             [
              1,
              "#f0f921"
             ]
            ],
            "type": "histogram2dcontour"
           }
          ],
          "mesh3d": [
           {
            "colorbar": {
             "outlinewidth": 0,
             "ticks": ""
            },
            "type": "mesh3d"
           }
          ],
          "parcoords": [
           {
            "line": {
             "colorbar": {
              "outlinewidth": 0,
              "ticks": ""
             }
            },
            "type": "parcoords"
           }
          ],
          "pie": [
           {
            "automargin": true,
            "type": "pie"
           }
          ],
          "scatter": [
           {
            "fillpattern": {
             "fillmode": "overlay",
             "size": 10,
             "solidity": 0.2
            },
            "type": "scatter"
           }
          ],
          "scatter3d": [
           {
            "line": {
             "colorbar": {
              "outlinewidth": 0,
              "ticks": ""
             }
            },
            "marker": {
             "colorbar": {
              "outlinewidth": 0,
              "ticks": ""
             }
            },
            "type": "scatter3d"
           }
          ],
          "scattercarpet": [
           {
            "marker": {
             "colorbar": {
              "outlinewidth": 0,
              "ticks": ""
             }
            },
            "type": "scattercarpet"
           }
          ],
          "scattergeo": [
           {
            "marker": {
             "colorbar": {
              "outlinewidth": 0,
              "ticks": ""
             }
            },
            "type": "scattergeo"
           }
          ],
          "scattergl": [
           {
            "marker": {
             "colorbar": {
              "outlinewidth": 0,
              "ticks": ""
             }
            },
            "type": "scattergl"
           }
          ],
          "scattermapbox": [
           {
            "marker": {
             "colorbar": {
              "outlinewidth": 0,
              "ticks": ""
             }
            },
            "type": "scattermapbox"
           }
          ],
          "scatterpolar": [
           {
            "marker": {
             "colorbar": {
              "outlinewidth": 0,
              "ticks": ""
             }
            },
            "type": "scatterpolar"
           }
          ],
          "scatterpolargl": [
           {
            "marker": {
             "colorbar": {
              "outlinewidth": 0,
              "ticks": ""
             }
            },
            "type": "scatterpolargl"
           }
          ],
          "scatterternary": [
           {
            "marker": {
             "colorbar": {
              "outlinewidth": 0,
              "ticks": ""
             }
            },
            "type": "scatterternary"
           }
          ],
          "surface": [
           {
            "colorbar": {
             "outlinewidth": 0,
             "ticks": ""
            },
            "colorscale": [
             [
              0,
              "#0d0887"
             ],
             [
              0.1111111111111111,
              "#46039f"
             ],
             [
              0.2222222222222222,
              "#7201a8"
             ],
             [
              0.3333333333333333,
              "#9c179e"
             ],
             [
              0.4444444444444444,
              "#bd3786"
             ],
             [
              0.5555555555555556,
              "#d8576b"
             ],
             [
              0.6666666666666666,
              "#ed7953"
             ],
             [
              0.7777777777777778,
              "#fb9f3a"
             ],
             [
              0.8888888888888888,
              "#fdca26"
             ],
             [
              1,
              "#f0f921"
             ]
            ],
            "type": "surface"
           }
          ],
          "table": [
           {
            "cells": {
             "fill": {
              "color": "#EBF0F8"
             },
             "line": {
              "color": "white"
             }
            },
            "header": {
             "fill": {
              "color": "#C8D4E3"
             },
             "line": {
              "color": "white"
             }
            },
            "type": "table"
           }
          ]
         },
         "layout": {
          "annotationdefaults": {
           "arrowcolor": "#2a3f5f",
           "arrowhead": 0,
           "arrowwidth": 1
          },
          "autotypenumbers": "strict",
          "coloraxis": {
           "colorbar": {
            "outlinewidth": 0,
            "ticks": ""
           }
          },
          "colorscale": {
           "diverging": [
            [
             0,
             "#8e0152"
            ],
            [
             0.1,
             "#c51b7d"
            ],
            [
             0.2,
             "#de77ae"
            ],
            [
             0.3,
             "#f1b6da"
            ],
            [
             0.4,
             "#fde0ef"
            ],
            [
             0.5,
             "#f7f7f7"
            ],
            [
             0.6,
             "#e6f5d0"
            ],
            [
             0.7,
             "#b8e186"
            ],
            [
             0.8,
             "#7fbc41"
            ],
            [
             0.9,
             "#4d9221"
            ],
            [
             1,
             "#276419"
            ]
           ],
           "sequential": [
            [
             0,
             "#0d0887"
            ],
            [
             0.1111111111111111,
             "#46039f"
            ],
            [
             0.2222222222222222,
             "#7201a8"
            ],
            [
             0.3333333333333333,
             "#9c179e"
            ],
            [
             0.4444444444444444,
             "#bd3786"
            ],
            [
             0.5555555555555556,
             "#d8576b"
            ],
            [
             0.6666666666666666,
             "#ed7953"
            ],
            [
             0.7777777777777778,
             "#fb9f3a"
            ],
            [
             0.8888888888888888,
             "#fdca26"
            ],
            [
             1,
             "#f0f921"
            ]
           ],
           "sequentialminus": [
            [
             0,
             "#0d0887"
            ],
            [
             0.1111111111111111,
             "#46039f"
            ],
            [
             0.2222222222222222,
             "#7201a8"
            ],
            [
             0.3333333333333333,
             "#9c179e"
            ],
            [
             0.4444444444444444,
             "#bd3786"
            ],
            [
             0.5555555555555556,
             "#d8576b"
            ],
            [
             0.6666666666666666,
             "#ed7953"
            ],
            [
             0.7777777777777778,
             "#fb9f3a"
            ],
            [
             0.8888888888888888,
             "#fdca26"
            ],
            [
             1,
             "#f0f921"
            ]
           ]
          },
          "colorway": [
           "#636efa",
           "#EF553B",
           "#00cc96",
           "#ab63fa",
           "#FFA15A",
           "#19d3f3",
           "#FF6692",
           "#B6E880",
           "#FF97FF",
           "#FECB52"
          ],
          "font": {
           "color": "#2a3f5f"
          },
          "geo": {
           "bgcolor": "white",
           "lakecolor": "white",
           "landcolor": "#E5ECF6",
           "showlakes": true,
           "showland": true,
           "subunitcolor": "white"
          },
          "hoverlabel": {
           "align": "left"
          },
          "hovermode": "closest",
          "mapbox": {
           "style": "light"
          },
          "paper_bgcolor": "white",
          "plot_bgcolor": "#E5ECF6",
          "polar": {
           "angularaxis": {
            "gridcolor": "white",
            "linecolor": "white",
            "ticks": ""
           },
           "bgcolor": "#E5ECF6",
           "radialaxis": {
            "gridcolor": "white",
            "linecolor": "white",
            "ticks": ""
           }
          },
          "scene": {
           "xaxis": {
            "backgroundcolor": "#E5ECF6",
            "gridcolor": "white",
            "gridwidth": 2,
            "linecolor": "white",
            "showbackground": true,
            "ticks": "",
            "zerolinecolor": "white"
           },
           "yaxis": {
            "backgroundcolor": "#E5ECF6",
            "gridcolor": "white",
            "gridwidth": 2,
            "linecolor": "white",
            "showbackground": true,
            "ticks": "",
            "zerolinecolor": "white"
           },
           "zaxis": {
            "backgroundcolor": "#E5ECF6",
            "gridcolor": "white",
            "gridwidth": 2,
            "linecolor": "white",
            "showbackground": true,
            "ticks": "",
            "zerolinecolor": "white"
           }
          },
          "shapedefaults": {
           "line": {
            "color": "#2a3f5f"
           }
          },
          "ternary": {
           "aaxis": {
            "gridcolor": "white",
            "linecolor": "white",
            "ticks": ""
           },
           "baxis": {
            "gridcolor": "white",
            "linecolor": "white",
            "ticks": ""
           },
           "bgcolor": "#E5ECF6",
           "caxis": {
            "gridcolor": "white",
            "linecolor": "white",
            "ticks": ""
           }
          },
          "title": {
           "x": 0.05
          },
          "xaxis": {
           "automargin": true,
           "gridcolor": "white",
           "linecolor": "white",
           "ticks": "",
           "title": {
            "standoff": 15
           },
           "zerolinecolor": "white",
           "zerolinewidth": 2
          },
          "yaxis": {
           "automargin": true,
           "gridcolor": "white",
           "linecolor": "white",
           "ticks": "",
           "title": {
            "standoff": 15
           },
           "zerolinecolor": "white",
           "zerolinewidth": 2
          }
         }
        },
        "title": {
         "text": "Plotly Color Palette Preview"
        },
        "xaxis": {
         "autorange": true,
         "range": [
          0,
          1.0526315789473684
         ],
         "showticklabels": false,
         "type": "linear"
        },
        "yaxis": {
         "autorange": true,
         "range": [
          9.5,
          -0.5
         ],
         "type": "category"
        }
       }
      },
      "image/png": "[encoded data removed]",
      "text/html": [
       "<div>                            <div id=\"b1b84720-e923-41b9-887b-fa5e69e341ac\" class=\"plotly-graph-div\" style=\"height:300px; width:100%;\"></div>            <script type=\"text/javascript\">                require([\"plotly\"], function(Plotly) {                    window.PLOTLYENV=window.PLOTLYENV || {};                                    if (document.getElementById(\"b1b84720-e923-41b9-887b-fa5e69e341ac\")) {                    Plotly.newPlot(                        \"b1b84720-e923-41b9-887b-fa5e69e341ac\",                        [{\"marker\":{\"color\":\"#636EFA\"},\"orientation\":\"h\",\"showlegend\":false,\"text\":\"#636EFA\",\"textposition\":\"inside\",\"x\":[1],\"y\":[\"1: #636EFA\"],\"type\":\"bar\"},{\"marker\":{\"color\":\"#EF553B\"},\"orientation\":\"h\",\"showlegend\":false,\"text\":\"#EF553B\",\"textposition\":\"inside\",\"x\":[1],\"y\":[\"2: #EF553B\"],\"type\":\"bar\"},{\"marker\":{\"color\":\"#00CC96\"},\"orientation\":\"h\",\"showlegend\":false,\"text\":\"#00CC96\",\"textposition\":\"inside\",\"x\":[1],\"y\":[\"3: #00CC96\"],\"type\":\"bar\"},{\"marker\":{\"color\":\"#AB63FA\"},\"orientation\":\"h\",\"showlegend\":false,\"text\":\"#AB63FA\",\"textposition\":\"inside\",\"x\":[1],\"y\":[\"4: #AB63FA\"],\"type\":\"bar\"},{\"marker\":{\"color\":\"#FFA15A\"},\"orientation\":\"h\",\"showlegend\":false,\"text\":\"#FFA15A\",\"textposition\":\"inside\",\"x\":[1],\"y\":[\"5: #FFA15A\"],\"type\":\"bar\"},{\"marker\":{\"color\":\"#19D3F3\"},\"orientation\":\"h\",\"showlegend\":false,\"text\":\"#19D3F3\",\"textposition\":\"inside\",\"x\":[1],\"y\":[\"6: #19D3F3\"],\"type\":\"bar\"},{\"marker\":{\"color\":\"#FF6692\"},\"orientation\":\"h\",\"showlegend\":false,\"text\":\"#FF6692\",\"textposition\":\"inside\",\"x\":[1],\"y\":[\"7: #FF6692\"],\"type\":\"bar\"},{\"marker\":{\"color\":\"#B6E880\"},\"orientation\":\"h\",\"showlegend\":false,\"text\":\"#B6E880\",\"textposition\":\"inside\",\"x\":[1],\"y\":[\"8: #B6E880\"],\"type\":\"bar\"},{\"marker\":{\"color\":\"#FF97FF\"},\"orientation\":\"h\",\"showlegend\":false,\"text\":\"#FF97FF\",\"textposition\":\"inside\",\"x\":[1],\"y\":[\"9: #FF97FF\"],\"type\":\"bar\"},{\"marker\":{\"color\":\"#FECB52\"},\"orientation\":\"h\",\"showlegend\":false,\"text\":\"#FECB52\",\"textposition\":\"inside\",\"x\":[1],\"y\":[\"10: #FECB52\"],\"type\":\"bar\"}],                        {\"template\":{\"data\":{\"histogram2dcontour\":[{\"type\":\"histogram2dcontour\",\"colorbar\":{\"outlinewidth\":0,\"ticks\":\"\"},\"colorscale\":[[0.0,\"#0d0887\"],[0.1111111111111111,\"#46039f\"],[0.2222222222222222,\"#7201a8\"],[0.3333333333333333,\"#9c179e\"],[0.4444444444444444,\"#bd3786\"],[0.5555555555555556,\"#d8576b\"],[0.6666666666666666,\"#ed7953\"],[0.7777777777777778,\"#fb9f3a\"],[0.8888888888888888,\"#fdca26\"],[1.0,\"#f0f921\"]]}],\"choropleth\":[{\"type\":\"choropleth\",\"colorbar\":{\"outlinewidth\":0,\"ticks\":\"\"}}],\"histogram2d\":[{\"type\":\"histogram2d\",\"colorbar\":{\"outlinewidth\":0,\"ticks\":\"\"},\"colorscale\":[[0.0,\"#0d0887\"],[0.1111111111111111,\"#46039f\"],[0.2222222222222222,\"#7201a8\"],[0.3333333333333333,\"#9c179e\"],[0.4444444444444444,\"#bd3786\"],[0.5555555555555556,\"#d8576b\"],[0.6666666666666666,\"#ed7953\"],[0.7777777777777778,\"#fb9f3a\"],[0.8888888888888888,\"#fdca26\"],[1.0,\"#f0f921\"]]}],\"heatmap\":[{\"type\":\"heatmap\",\"colorbar\":{\"outlinewidth\":0,\"ticks\":\"\"},\"colorscale\":[[0.0,\"#0d0887\"],[0.1111111111111111,\"#46039f\"],[0.2222222222222222,\"#7201a8\"],[0.3333333333333333,\"#9c179e\"],[0.4444444444444444,\"#bd3786\"],[0.5555555555555556,\"#d8576b\"],[0.6666666666666666,\"#ed7953\"],[0.7777777777777778,\"#fb9f3a\"],[0.8888888888888888,\"#fdca26\"],[1.0,\"#f0f921\"]]}],\"heatmapgl\":[{\"type\":\"heatmapgl\",\"colorbar\":{\"outlinewidth\":0,\"ticks\":\"\"},\"colorscale\":[[0.0,\"#0d0887\"],[0.1111111111111111,\"#46039f\"],[0.2222222222222222,\"#7201a8\"],[0.3333333333333333,\"#9c179e\"],[0.4444444444444444,\"#bd3786\"],[0.5555555555555556,\"#d8576b\"],[0.6666666666666666,\"#ed7953\"],[0.7777777777777778,\"#fb9f3a\"],[0.8888888888888888,\"#fdca26\"],[1.0,\"#f0f921\"]]}],\"contourcarpet\":[{\"type\":\"contourcarpet\",\"colorbar\":{\"outlinewidth\":0,\"ticks\":\"\"}}],\"contour\":[{\"type\":\"contour\",\"colorbar\":{\"outlinewidth\":0,\"ticks\":\"\"},\"colorscale\":[[0.0,\"#0d0887\"],[0.1111111111111111,\"#46039f\"],[0.2222222222222222,\"#7201a8\"],[0.3333333333333333,\"#9c179e\"],[0.4444444444444444,\"#bd3786\"],[0.5555555555555556,\"#d8576b\"],[0.6666666666666666,\"#ed7953\"],[0.7777777777777778,\"#fb9f3a\"],[0.8888888888888888,\"#fdca26\"],[1.0,\"#f0f921\"]]}],\"surface\":[{\"type\":\"surface\",\"colorbar\":{\"outlinewidth\":0,\"ticks\":\"\"},\"colorscale\":[[0.0,\"#0d0887\"],[0.1111111111111111,\"#46039f\"],[0.2222222222222222,\"#7201a8\"],[0.3333333333333333,\"#9c179e\"],[0.4444444444444444,\"#bd3786\"],[0.5555555555555556,\"#d8576b\"],[0.6666666666666666,\"#ed7953\"],[0.7777777777777778,\"#fb9f3a\"],[0.8888888888888888,\"#fdca26\"],[1.0,\"#f0f921\"]]}],\"mesh3d\":[{\"type\":\"mesh3d\",\"colorbar\":{\"outlinewidth\":0,\"ticks\":\"\"}}],\"scatter\":[{\"fillpattern\":{\"fillmode\":\"overlay\",\"size\":10,\"solidity\":0.2},\"type\":\"scatter\"}],\"parcoords\":[{\"type\":\"parcoords\",\"line\":{\"colorbar\":{\"outlinewidth\":0,\"ticks\":\"\"}}}],\"scatterpolargl\":[{\"type\":\"scatterpolargl\",\"marker\":{\"colorbar\":{\"outlinewidth\":0,\"ticks\":\"\"}}}],\"bar\":[{\"error_x\":{\"color\":\"#2a3f5f\"},\"error_y\":{\"color\":\"#2a3f5f\"},\"marker\":{\"line\":{\"color\":\"#E5ECF6\",\"width\":0.5},\"pattern\":{\"fillmode\":\"overlay\",\"size\":10,\"solidity\":0.2}},\"type\":\"bar\"}],\"scattergeo\":[{\"type\":\"scattergeo\",\"marker\":{\"colorbar\":{\"outlinewidth\":0,\"ticks\":\"\"}}}],\"scatterpolar\":[{\"type\":\"scatterpolar\",\"marker\":{\"colorbar\":{\"outlinewidth\":0,\"ticks\":\"\"}}}],\"histogram\":[{\"marker\":{\"pattern\":{\"fillmode\":\"overlay\",\"size\":10,\"solidity\":0.2}},\"type\":\"histogram\"}],\"scattergl\":[{\"type\":\"scattergl\",\"marker\":{\"colorbar\":{\"outlinewidth\":0,\"ticks\":\"\"}}}],\"scatter3d\":[{\"type\":\"scatter3d\",\"line\":{\"colorbar\":{\"outlinewidth\":0,\"ticks\":\"\"}},\"marker\":{\"colorbar\":{\"outlinewidth\":0,\"ticks\":\"\"}}}],\"scattermapbox\":[{\"type\":\"scattermapbox\",\"marker\":{\"colorbar\":{\"outlinewidth\":0,\"ticks\":\"\"}}}],\"scatterternary\":[{\"type\":\"scatterternary\",\"marker\":{\"colorbar\":{\"outlinewidth\":0,\"ticks\":\"\"}}}],\"scattercarpet\":[{\"type\":\"scattercarpet\",\"marker\":{\"colorbar\":{\"outlinewidth\":0,\"ticks\":\"\"}}}],\"carpet\":[{\"aaxis\":{\"endlinecolor\":\"#2a3f5f\",\"gridcolor\":\"white\",\"linecolor\":\"white\",\"minorgridcolor\":\"white\",\"startlinecolor\":\"#2a3f5f\"},\"baxis\":{\"endlinecolor\":\"#2a3f5f\",\"gridcolor\":\"white\",\"linecolor\":\"white\",\"minorgridcolor\":\"white\",\"startlinecolor\":\"#2a3f5f\"},\"type\":\"carpet\"}],\"table\":[{\"cells\":{\"fill\":{\"color\":\"#EBF0F8\"},\"line\":{\"color\":\"white\"}},\"header\":{\"fill\":{\"color\":\"#C8D4E3\"},\"line\":{\"color\":\"white\"}},\"type\":\"table\"}],\"barpolar\":[{\"marker\":{\"line\":{\"color\":\"#E5ECF6\",\"width\":0.5},\"pattern\":{\"fillmode\":\"overlay\",\"size\":10,\"solidity\":0.2}},\"type\":\"barpolar\"}],\"pie\":[{\"automargin\":true,\"type\":\"pie\"}]},\"layout\":{\"autotypenumbers\":\"strict\",\"colorway\":[\"#636efa\",\"#EF553B\",\"#00cc96\",\"#ab63fa\",\"#FFA15A\",\"#19d3f3\",\"#FF6692\",\"#B6E880\",\"#FF97FF\",\"#FECB52\"],\"font\":{\"color\":\"#2a3f5f\"},\"hovermode\":\"closest\",\"hoverlabel\":{\"align\":\"left\"},\"paper_bgcolor\":\"white\",\"plot_bgcolor\":\"#E5ECF6\",\"polar\":{\"bgcolor\":\"#E5ECF6\",\"angularaxis\":{\"gridcolor\":\"white\",\"linecolor\":\"white\",\"ticks\":\"\"},\"radialaxis\":{\"gridcolor\":\"white\",\"linecolor\":\"white\",\"ticks\":\"\"}},\"ternary\":{\"bgcolor\":\"#E5ECF6\",\"aaxis\":{\"gridcolor\":\"white\",\"linecolor\":\"white\",\"ticks\":\"\"},\"baxis\":{\"gridcolor\":\"white\",\"linecolor\":\"white\",\"ticks\":\"\"},\"caxis\":{\"gridcolor\":\"white\",\"linecolor\":\"white\",\"ticks\":\"\"}},\"coloraxis\":{\"colorbar\":{\"outlinewidth\":0,\"ticks\":\"\"}},\"colorscale\":{\"sequential\":[[0.0,\"#0d0887\"],[0.1111111111111111,\"#46039f\"],[0.2222222222222222,\"#7201a8\"],[0.3333333333333333,\"#9c179e\"],[0.4444444444444444,\"#bd3786\"],[0.5555555555555556,\"#d8576b\"],[0.6666666666666666,\"#ed7953\"],[0.7777777777777778,\"#fb9f3a\"],[0.8888888888888888,\"#fdca26\"],[1.0,\"#f0f921\"]],\"sequentialminus\":[[0.0,\"#0d0887\"],[0.1111111111111111,\"#46039f\"],[0.2222222222222222,\"#7201a8\"],[0.3333333333333333,\"#9c179e\"],[0.4444444444444444,\"#bd3786\"],[0.5555555555555556,\"#d8576b\"],[0.6666666666666666,\"#ed7953\"],[0.7777777777777778,\"#fb9f3a\"],[0.8888888888888888,\"#fdca26\"],[1.0,\"#f0f921\"]],\"diverging\":[[0,\"#8e0152\"],[0.1,\"#c51b7d\"],[0.2,\"#de77ae\"],[0.3,\"#f1b6da\"],[0.4,\"#fde0ef\"],[0.5,\"#f7f7f7\"],[0.6,\"#e6f5d0\"],[0.7,\"#b8e186\"],[0.8,\"#7fbc41\"],[0.9,\"#4d9221\"],[1,\"#276419\"]]},\"xaxis\":{\"gridcolor\":\"white\",\"linecolor\":\"white\",\"ticks\":\"\",\"title\":{\"standoff\":15},\"zerolinecolor\":\"white\",\"automargin\":true,\"zerolinewidth\":2},\"yaxis\":{\"gridcolor\":\"white\",\"linecolor\":\"white\",\"ticks\":\"\",\"title\":{\"standoff\":15},\"zerolinecolor\":\"white\",\"automargin\":true,\"zerolinewidth\":2},\"scene\":{\"xaxis\":{\"backgroundcolor\":\"#E5ECF6\",\"gridcolor\":\"white\",\"linecolor\":\"white\",\"showbackground\":true,\"ticks\":\"\",\"zerolinecolor\":\"white\",\"gridwidth\":2},\"yaxis\":{\"backgroundcolor\":\"#E5ECF6\",\"gridcolor\":\"white\",\"linecolor\":\"white\",\"showbackground\":true,\"ticks\":\"\",\"zerolinecolor\":\"white\",\"gridwidth\":2},\"zaxis\":{\"backgroundcolor\":\"#E5ECF6\",\"gridcolor\":\"white\",\"linecolor\":\"white\",\"showbackground\":true,\"ticks\":\"\",\"zerolinecolor\":\"white\",\"gridwidth\":2}},\"shapedefaults\":{\"line\":{\"color\":\"#2a3f5f\"}},\"annotationdefaults\":{\"arrowcolor\":\"#2a3f5f\",\"arrowhead\":0,\"arrowwidth\":1},\"geo\":{\"bgcolor\":\"white\",\"landcolor\":\"#E5ECF6\",\"subunitcolor\":\"white\",\"showland\":true,\"showlakes\":true,\"lakecolor\":\"white\"},\"title\":{\"x\":0.05},\"mapbox\":{\"style\":\"light\"}}},\"xaxis\":{\"showticklabels\":false},\"yaxis\":{\"autorange\":\"reversed\"},\"margin\":{\"l\":50,\"r\":50,\"t\":50,\"b\":50},\"title\":{\"text\":\"Plotly Color Palette Preview\"},\"height\":300},                        {\"responsive\": true}                    ).then(function(){\n",
       "                            \n",
       "var gd = document.getElementById('b1b84720-e923-41b9-887b-fa5e69e341ac');\n",
       "var x = new MutationObserver(function (mutations, observer) {{\n",
       "        var display = window.getComputedStyle(gd).display;\n",
       "        if (!display || display === 'none') {{\n",
       "            console.log([gd, 'removed!']);\n",
       "            Plotly.purge(gd);\n",
       "            observer.disconnect();\n",
       "        }}\n",
       "}});\n",
       "\n",
       "// Listen for the removal of the full notebook cells\n",
       "var notebookContainer = gd.closest('#notebook-container');\n",
       "if (notebookContainer) {{\n",
       "    x.observe(notebookContainer, {childList: true});\n",
       "}}\n",
       "\n",
       "// Listen for the clearing of the current output cell\n",
       "var outputEl = gd.closest('.output');\n",
       "if (outputEl) {{\n",
       "    x.observe(outputEl, {childList: true});\n",
       "}}\n",
       "\n",
       "                        })                };                });            </script>        </div>"
      ]
     },
     "metadata": {},
     "output_type": "display_data"
    }
   ],
   "source": [
    "import plotly.graph_objects as go\n",
    "import plotly.express as px\n",
    "\n",
    "palette = px.colors.qualitative.Plotly  # You can also try 'Set1', 'Dark24', etc.\n",
    "\n",
    "fig = go.Figure()\n",
    "\n",
    "for i, color in enumerate(palette):\n",
    "    fig.add_trace(go.Bar(\n",
    "        x=[1],\n",
    "        y=[f\"{i+1}: {color}\"],\n",
    "        orientation='h',\n",
    "        marker_color=color,\n",
    "        text=color,\n",
    "        textposition=\"inside\",\n",
    "        showlegend=False\n",
    "    ))\n",
    "\n",
    "fig.update_layout(\n",
    "    title=\"Plotly Color Palette Preview\",\n",
    "    height=30 * len(palette),\n",
    "    xaxis=dict(showticklabels=False),\n",
    "    yaxis=dict(autorange=\"reversed\"),\n",
    "    margin=dict(l=50, r=50, t=50, b=50)\n",
    ")\n",
    "\n",
    "fig.show()"
   ]
  },
  {
   "cell_type": "code",
   "execution_count": 29,
   "id": "0b51b12a-ff66-41a9-a908-cdde7a8e6550",
   "metadata": {},
   "outputs": [
    {
     "data": {
      "application/vnd.plotly.v1+json": {
       "config": {
        "plotlyServerURL": "https://plot.ly"
       },
       "data": [
        {
         "base": 0,
         "hovertemplate": "Tweezers<br>Start: 0 ms<br>Duration: 20 ms<br>Group: Prep<extra></extra>",
         "insidetextanchor": "start",
         "marker": {
          "color": "turquoise"
         },
         "name": "Prep",
         "orientation": "h",
         "text": "Preparation",
         "textfont": {
          "color": "black",
          "size": 11
         },
         "textposition": "inside",
         "type": "bar",
         "x": [
          20
         ],
         "y": [
          "Tweezers"
         ]
        },
        {
         "base": 30,
         "hovertemplate": "Tweezers<br>Start: 30 ms<br>Duration: 10 ms<br>Group: Prep<extra></extra>",
         "insidetextanchor": "start",
         "marker": {
          "color": "turquoise"
         },
         "name": "Prep",
         "orientation": "h",
         "text": "Recapture",
         "textfont": {
          "color": "black",
          "size": 11
         },
         "textposition": "inside",
         "type": "bar",
         "x": [
          10
         ],
         "y": [
          "Tweezers"
         ]
        },
        {
         "base": 10,
         "hovertemplate": "LAC<br>Start: 10 ms<br>Duration: 10 ms<br>Group: Control<extra></extra>",
         "insidetextanchor": "start",
         "marker": {
          "color": "orange"
         },
         "name": "Control",
         "orientation": "h",
         "text": "t=30 ms",
         "textfont": {
          "color": "black",
          "size": 11
         },
         "textposition": "inside",
         "type": "bar",
         "x": [
          10
         ],
         "y": [
          "LAC"
         ]
        },
        {
         "base": 20,
         "hovertemplate": "ZS 401<br>Start: 20 ms<br>Duration: 10 ms<br>Group: Manipulation<extra></extra>",
         "insidetextanchor": "start",
         "marker": {
          "color": "skyblue"
         },
         "name": "Manipulation",
         "orientation": "h",
         "text": "P401, ZS?, \\sigma_-",
         "textfont": {
          "color": "black",
          "size": 11
         },
         "textposition": "inside",
         "type": "bar",
         "x": [
          10
         ],
         "y": [
          "ZS 401"
         ]
        },
        {
         "base": 20,
         "hovertemplate": "411<br>Start: 20 ms<br>Duration: 10 ms<br>Group: Manipulation<extra></extra>",
         "insidetextanchor": "start",
         "marker": {
          "color": "skyblue"
         },
         "name": "Manipulation",
         "orientation": "h",
         "text": "P411, EOMf, \\sigma_+",
         "textfont": {
          "color": "black",
          "size": 11
         },
         "textposition": "inside",
         "type": "bar",
         "x": [
          10
         ],
         "y": [
          "411"
         ]
        },
        {
         "base": 30,
         "hovertemplate": "HV<br>Start: 30 ms<br>Duration: 5 ms<br>Group: Optional<extra></extra>",
         "insidetextanchor": "start",
         "marker": {
          "color": "violet"
         },
         "name": "Optional",
         "orientation": "h",
         "text": "\\pm 700 V",
         "textfont": {
          "color": "black",
          "size": 11
         },
         "textposition": "inside",
         "type": "bar",
         "x": [
          5
         ],
         "y": [
          "HV"
         ]
        },
        {
         "base": 35.005,
         "hovertemplate": "Imaging (583)<br>Start: 35.005 ms<br>Duration: 5 ms<br>Group: Readout<extra></extra>",
         "insidetextanchor": "start",
         "marker": {
          "color": "lightgreen"
         },
         "name": "Readout",
         "orientation": "h",
         "text": "30 ms, single/double",
         "textfont": {
          "color": "black",
          "size": 11
         },
         "textposition": "inside",
         "type": "bar",
         "x": [
          5
         ],
         "y": [
          "Imaging (583)"
         ]
        },
        {
         "base": 35.005,
         "hovertemplate": "Imaging (401)<br>Start: 35.005 ms<br>Duration: 5 ms<br>Group: Readout<extra></extra>",
         "insidetextanchor": "start",
         "marker": {
          "color": "lightgreen"
         },
         "name": "Readout",
         "orientation": "h",
         "text": "30 us",
         "textfont": {
          "color": "black",
          "size": 11
         },
         "textposition": "inside",
         "type": "bar",
         "x": [
          5
         ],
         "y": [
          "Imaging (401)"
         ]
        },
        {
         "base": 0,
         "hovertemplate": "Tweezer ON<br>Start: 0 ms<br>Duration: 20 ms<br>Group: Prep<extra></extra>",
         "insidetextanchor": "start",
         "marker": {
          "color": "turquoise"
         },
         "name": "Prep",
         "orientation": "h",
         "text": "Tweezer ON (initial)",
         "textfont": {
          "color": "black",
          "size": 11
         },
         "textposition": "inside",
         "type": "bar",
         "x": [
          20
         ],
         "y": [
          "Tweezer ON"
         ]
        },
        {
         "base": 30,
         "hovertemplate": "Tweezer ON<br>Start: 30 ms<br>Duration: 10 ms<br>Group: Other<extra></extra>",
         "insidetextanchor": "start",
         "marker": {
          "color": "lightgray"
         },
         "name": "Other",
         "orientation": "h",
         "text": "Tweezer ON",
         "textfont": {
          "color": "black",
          "size": 11
         },
         "textposition": "inside",
         "type": "bar",
         "x": [
          10
         ],
         "y": [
          "Tweezer ON"
         ]
        },
        {
         "base": 10,
         "hovertemplate": "LAC<br>Start: 10 ms<br>Duration: 10 ms<br>Group: Control<extra></extra>",
         "insidetextanchor": "start",
         "marker": {
          "color": "orange"
         },
         "name": "Control",
         "orientation": "h",
         "text": "LAC",
         "textfont": {
          "color": "black",
          "size": 11
         },
         "textposition": "inside",
         "type": "bar",
         "x": [
          10
         ],
         "y": [
          "LAC"
         ]
        },
        {
         "base": 20,
         "hovertemplate": "ZS 401<br>Start: 20 ms<br>Duration: 10 ms<br>Group: Manipulation<extra></extra>",
         "insidetextanchor": "start",
         "marker": {
          "color": "skyblue"
         },
         "name": "Manipulation",
         "orientation": "h",
         "text": "ZS 401",
         "textfont": {
          "color": "black",
          "size": 11
         },
         "textposition": "inside",
         "type": "bar",
         "x": [
          10
         ],
         "y": [
          "ZS 401"
         ]
        },
        {
         "base": 0,
         "hovertemplate": "Tweezer ON<br>Start: 0 ms<br>Duration: 20 ms<br>Group: Prep<extra></extra>",
         "insidetextanchor": "start",
         "marker": {
          "color": "turquoise"
         },
         "name": "Prep",
         "orientation": "h",
         "text": "Tweezer ON (initial)",
         "textfont": {
          "color": "black",
          "size": 11
         },
         "textposition": "inside",
         "type": "bar",
         "x": [
          20
         ],
         "y": [
          "Tweezer ON"
         ]
        },
        {
         "base": 30,
         "hovertemplate": "Tweezer ON<br>Start: 30 ms<br>Duration: 10 ms<br>Group: Other<extra></extra>",
         "insidetextanchor": "start",
         "marker": {
          "color": "lightgray"
         },
         "name": "Other",
         "orientation": "h",
         "text": "Tweezer ON",
         "textfont": {
          "color": "black",
          "size": 11
         },
         "textposition": "inside",
         "type": "bar",
         "x": [
          10
         ],
         "y": [
          "Tweezer ON"
         ]
        },
        {
         "base": 10,
         "hovertemplate": "LAC<br>Start: 10 ms<br>Duration: 10 ms<br>Group: Control<extra></extra>",
         "insidetextanchor": "start",
         "marker": {
          "color": "orange"
         },
         "name": "Control",
         "orientation": "h",
         "text": "LAC",
         "textfont": {
          "color": "black",
          "size": 11
         },
         "textposition": "inside",
         "type": "bar",
         "x": [
          10
         ],
         "y": [
          "LAC"
         ]
        },
        {
         "base": 20,
         "hovertemplate": "ZS 401<br>Start: 20 ms<br>Duration: 10 ms<br>Group: Manipulation<extra></extra>",
         "insidetextanchor": "start",
         "marker": {
          "color": "skyblue"
         },
         "name": "Manipulation",
         "orientation": "h",
         "text": "ZS 401",
         "textfont": {
          "color": "black",
          "size": 11
         },
         "textposition": "inside",
         "type": "bar",
         "x": [
          10
         ],
         "y": [
          "ZS 401"
         ]
        },
        {
         "base": 0,
         "hovertemplate": "Tweezer ON<br>Start: 0 ms<br>Duration: 20 ms<br>Group: Prep<extra></extra>",
         "insidetextanchor": "start",
         "marker": {
          "color": "turquoise"
         },
         "name": "Prep",
         "orientation": "h",
         "text": "Tweezer ON (initial)",
         "textfont": {
          "color": "black",
          "size": 11
         },
         "textposition": "inside",
         "type": "bar",
         "x": [
          20
         ],
         "y": [
          "Tweezer ON"
         ]
        },
        {
         "base": 30,
         "hovertemplate": "Tweezer ON<br>Start: 30 ms<br>Duration: 10 ms<br>Group: Other<extra></extra>",
         "insidetextanchor": "start",
         "marker": {
          "color": "lightgray"
         },
         "name": "Other",
         "orientation": "h",
         "text": "Tweezer ON",
         "textfont": {
          "color": "black",
          "size": 11
         },
         "textposition": "inside",
         "type": "bar",
         "x": [
          10
         ],
         "y": [
          "Tweezer ON"
         ]
        },
        {
         "base": 10,
         "hovertemplate": "LAC<br>Start: 10 ms<br>Duration: 10 ms<br>Group: Control<extra></extra>",
         "insidetextanchor": "start",
         "marker": {
          "color": "orange"
         },
         "name": "Control",
         "orientation": "h",
         "text": "LAC",
         "textfont": {
          "color": "black",
          "size": 11
         },
         "textposition": "inside",
         "type": "bar",
         "x": [
          10
         ],
         "y": [
          "LAC"
         ]
        },
        {
         "base": 20,
         "hovertemplate": "ZS 401<br>Start: 20 ms<br>Duration: 10 ms<br>Group: Manipulation<extra></extra>",
         "insidetextanchor": "start",
         "marker": {
          "color": "skyblue"
         },
         "name": "Manipulation",
         "orientation": "h",
         "text": "ZS 401",
         "textfont": {
          "color": "black",
          "size": 11
         },
         "textposition": "inside",
         "type": "bar",
         "x": [
          10
         ],
         "y": [
          "ZS 401"
         ]
        }
       ],
       "layout": {
        "autosize": true,
        "barmode": "stack",
        "margin": {
         "b": 50,
         "l": 200,
         "r": 50,
         "t": 50
        },
        "showlegend": false,
        "template": {
         "data": {
          "bar": [
           {
            "error_x": {
             "color": "#2a3f5f"
            },
            "error_y": {
             "color": "#2a3f5f"
            },
            "marker": {
             "line": {
              "color": "#E5ECF6",
              "width": 0.5
             },
             "pattern": {
              "fillmode": "overlay",
              "size": 10,
              "solidity": 0.2
             }
            },
            "type": "bar"
           }
          ],
          "barpolar": [
           {
            "marker": {
             "line": {
              "color": "#E5ECF6",
              "width": 0.5
             },
             "pattern": {
              "fillmode": "overlay",
              "size": 10,
              "solidity": 0.2
             }
            },
            "type": "barpolar"
           }
          ],
          "carpet": [
           {
            "aaxis": {
             "endlinecolor": "#2a3f5f",
             "gridcolor": "white",
             "linecolor": "white",
             "minorgridcolor": "white",
             "startlinecolor": "#2a3f5f"
            },
            "baxis": {
             "endlinecolor": "#2a3f5f",
             "gridcolor": "white",
             "linecolor": "white",
             "minorgridcolor": "white",
             "startlinecolor": "#2a3f5f"
            },
            "type": "carpet"
           }
          ],
          "choropleth": [
           {
            "colorbar": {
             "outlinewidth": 0,
             "ticks": ""
            },
            "type": "choropleth"
           }
          ],
          "contour": [
           {
            "colorbar": {
             "outlinewidth": 0,
             "ticks": ""
            },
            "colorscale": [
             [
              0,
              "#0d0887"
             ],
             [
              0.1111111111111111,
              "#46039f"
             ],
             [
              0.2222222222222222,
              "#7201a8"
             ],
             [
              0.3333333333333333,
              "#9c179e"
             ],
             [
              0.4444444444444444,
              "#bd3786"
             ],
             [
              0.5555555555555556,
              "#d8576b"
             ],
             [
              0.6666666666666666,
              "#ed7953"
             ],
             [
              0.7777777777777778,
              "#fb9f3a"
             ],
             [
              0.8888888888888888,
              "#fdca26"
             ],
             [
              1,
              "#f0f921"
             ]
            ],
            "type": "contour"
           }
          ],
          "contourcarpet": [
           {
            "colorbar": {
             "outlinewidth": 0,
             "ticks": ""
            },
            "type": "contourcarpet"
           }
          ],
          "heatmap": [
           {
            "colorbar": {
             "outlinewidth": 0,
             "ticks": ""
            },
            "colorscale": [
             [
              0,
              "#0d0887"
             ],
             [
              0.1111111111111111,
              "#46039f"
             ],
             [
              0.2222222222222222,
              "#7201a8"
             ],
             [
              0.3333333333333333,
              "#9c179e"
             ],
             [
              0.4444444444444444,
              "#bd3786"
             ],
             [
              0.5555555555555556,
              "#d8576b"
             ],
             [
              0.6666666666666666,
              "#ed7953"
             ],
             [
              0.7777777777777778,
              "#fb9f3a"
             ],
             [
              0.8888888888888888,
              "#fdca26"
             ],
             [
              1,
              "#f0f921"
             ]
            ],
            "type": "heatmap"
           }
          ],
          "heatmapgl": [
           {
            "colorbar": {
             "outlinewidth": 0,
             "ticks": ""
            },
            "colorscale": [
             [
              0,
              "#0d0887"
             ],
             [
              0.1111111111111111,
              "#46039f"
             ],
             [
              0.2222222222222222,
              "#7201a8"
             ],
             [
              0.3333333333333333,
              "#9c179e"
             ],
             [
              0.4444444444444444,
              "#bd3786"
             ],
             [
              0.5555555555555556,
              "#d8576b"
             ],
             [
              0.6666666666666666,
              "#ed7953"
             ],
             [
              0.7777777777777778,
              "#fb9f3a"
             ],
             [
              0.8888888888888888,
              "#fdca26"
             ],
             [
              1,
              "#f0f921"
             ]
            ],
            "type": "heatmapgl"
           }
          ],
          "histogram": [
           {
            "marker": {
             "pattern": {
              "fillmode": "overlay",
              "size": 10,
              "solidity": 0.2
             }
            },
            "type": "histogram"
           }
          ],
          "histogram2d": [
           {
            "colorbar": {
             "outlinewidth": 0,
             "ticks": ""
            },
            "colorscale": [
             [
              0,
              "#0d0887"
             ],
             [
              0.1111111111111111,
              "#46039f"
             ],
             [
              0.2222222222222222,
              "#7201a8"
             ],
             [
              0.3333333333333333,
              "#9c179e"
             ],
             [
              0.4444444444444444,
              "#bd3786"
             ],
             [
              0.5555555555555556,
              "#d8576b"
             ],
             [
              0.6666666666666666,
              "#ed7953"
             ],
             [
              0.7777777777777778,
              "#fb9f3a"
             ],
             [
              0.8888888888888888,
              "#fdca26"
             ],
             [
              1,
              "#f0f921"
             ]
            ],
            "type": "histogram2d"
           }
          ],
          "histogram2dcontour": [
           {
            "colorbar": {
             "outlinewidth": 0,
             "ticks": ""
            },
            "colorscale": [
             [
              0,
              "#0d0887"
             ],
             [
              0.1111111111111111,
              "#46039f"
             ],
             [
              0.2222222222222222,
              "#7201a8"
             ],
             [
              0.3333333333333333,
              "#9c179e"
             ],
             [
              0.4444444444444444,
              "#bd3786"
             ],
             [
              0.5555555555555556,
              "#d8576b"
             ],
             [
              0.6666666666666666,
              "#ed7953"
             ],
             [
              0.7777777777777778,
              "#fb9f3a"
             ],
             [
              0.8888888888888888,
              "#fdca26"
             ],
             [
              1,
              "#f0f921"
             ]
            ],
            "type": "histogram2dcontour"
           }
          ],
          "mesh3d": [
           {
            "colorbar": {
             "outlinewidth": 0,
             "ticks": ""
            },
            "type": "mesh3d"
           }
          ],
          "parcoords": [
           {
            "line": {
             "colorbar": {
              "outlinewidth": 0,
              "ticks": ""
             }
            },
            "type": "parcoords"
           }
          ],
          "pie": [
           {
            "automargin": true,
            "type": "pie"
           }
          ],
          "scatter": [
           {
            "fillpattern": {
             "fillmode": "overlay",
             "size": 10,
             "solidity": 0.2
            },
            "type": "scatter"
           }
          ],
          "scatter3d": [
           {
            "line": {
             "colorbar": {
              "outlinewidth": 0,
              "ticks": ""
             }
            },
            "marker": {
             "colorbar": {
              "outlinewidth": 0,
              "ticks": ""
             }
            },
            "type": "scatter3d"
           }
          ],
          "scattercarpet": [
           {
            "marker": {
             "colorbar": {
              "outlinewidth": 0,
              "ticks": ""
             }
            },
            "type": "scattercarpet"
           }
          ],
          "scattergeo": [
           {
            "marker": {
             "colorbar": {
              "outlinewidth": 0,
              "ticks": ""
             }
            },
            "type": "scattergeo"
           }
          ],
          "scattergl": [
           {
            "marker": {
             "colorbar": {
              "outlinewidth": 0,
              "ticks": ""
             }
            },
            "type": "scattergl"
           }
          ],
          "scattermapbox": [
           {
            "marker": {
             "colorbar": {
              "outlinewidth": 0,
              "ticks": ""
             }
            },
            "type": "scattermapbox"
           }
          ],
          "scatterpolar": [
           {
            "marker": {
             "colorbar": {
              "outlinewidth": 0,
              "ticks": ""
             }
            },
            "type": "scatterpolar"
           }
          ],
          "scatterpolargl": [
           {
            "marker": {
             "colorbar": {
              "outlinewidth": 0,
              "ticks": ""
             }
            },
            "type": "scatterpolargl"
           }
          ],
          "scatterternary": [
           {
            "marker": {
             "colorbar": {
              "outlinewidth": 0,
              "ticks": ""
             }
            },
            "type": "scatterternary"
           }
          ],
          "surface": [
           {
            "colorbar": {
             "outlinewidth": 0,
             "ticks": ""
            },
            "colorscale": [
             [
              0,
              "#0d0887"
             ],
             [
              0.1111111111111111,
              "#46039f"
             ],
             [
              0.2222222222222222,
              "#7201a8"
             ],
             [
              0.3333333333333333,
              "#9c179e"
             ],
             [
              0.4444444444444444,
              "#bd3786"
             ],
             [
              0.5555555555555556,
              "#d8576b"
             ],
             [
              0.6666666666666666,
              "#ed7953"
             ],
             [
              0.7777777777777778,
              "#fb9f3a"
             ],
             [
              0.8888888888888888,
              "#fdca26"
             ],
             [
              1,
              "#f0f921"
             ]
            ],
            "type": "surface"
           }
          ],
          "table": [
           {
            "cells": {
             "fill": {
              "color": "#EBF0F8"
             },
             "line": {
              "color": "white"
             }
            },
            "header": {
             "fill": {
              "color": "#C8D4E3"
             },
             "line": {
              "color": "white"
             }
            },
            "type": "table"
           }
          ]
         },
         "layout": {
          "annotationdefaults": {
           "arrowcolor": "#2a3f5f",
           "arrowhead": 0,
           "arrowwidth": 1
          },
          "autotypenumbers": "strict",
          "coloraxis": {
           "colorbar": {
            "outlinewidth": 0,
            "ticks": ""
           }
          },
          "colorscale": {
           "diverging": [
            [
             0,
             "#8e0152"
            ],
            [
             0.1,
             "#c51b7d"
            ],
            [
             0.2,
             "#de77ae"
            ],
            [
             0.3,
             "#f1b6da"
            ],
            [
             0.4,
             "#fde0ef"
            ],
            [
             0.5,
             "#f7f7f7"
            ],
            [
             0.6,
             "#e6f5d0"
            ],
            [
             0.7,
             "#b8e186"
            ],
            [
             0.8,
             "#7fbc41"
            ],
            [
             0.9,
             "#4d9221"
            ],
            [
             1,
             "#276419"
            ]
           ],
           "sequential": [
            [
             0,
             "#0d0887"
            ],
            [
             0.1111111111111111,
             "#46039f"
            ],
            [
             0.2222222222222222,
             "#7201a8"
            ],
            [
             0.3333333333333333,
             "#9c179e"
            ],
            [
             0.4444444444444444,
             "#bd3786"
            ],
            [
             0.5555555555555556,
             "#d8576b"
            ],
            [
             0.6666666666666666,
             "#ed7953"
            ],
            [
             0.7777777777777778,
             "#fb9f3a"
            ],
            [
             0.8888888888888888,
             "#fdca26"
            ],
            [
             1,
             "#f0f921"
            ]
           ],
           "sequentialminus": [
            [
             0,
             "#0d0887"
            ],
            [
             0.1111111111111111,
             "#46039f"
            ],
            [
             0.2222222222222222,
             "#7201a8"
            ],
            [
             0.3333333333333333,
             "#9c179e"
            ],
            [
             0.4444444444444444,
             "#bd3786"
            ],
            [
             0.5555555555555556,
             "#d8576b"
            ],
            [
             0.6666666666666666,
             "#ed7953"
            ],
            [
             0.7777777777777778,
             "#fb9f3a"
            ],
            [
             0.8888888888888888,
             "#fdca26"
            ],
            [
             1,
             "#f0f921"
            ]
           ]
          },
          "colorway": [
           "#636efa",
           "#EF553B",
           "#00cc96",
           "#ab63fa",
           "#FFA15A",
           "#19d3f3",
           "#FF6692",
           "#B6E880",
           "#FF97FF",
           "#FECB52"
          ],
          "font": {
           "color": "#2a3f5f"
          },
          "geo": {
           "bgcolor": "white",
           "lakecolor": "white",
           "landcolor": "#E5ECF6",
           "showlakes": true,
           "showland": true,
           "subunitcolor": "white"
          },
          "hoverlabel": {
           "align": "left"
          },
          "hovermode": "closest",
          "mapbox": {
           "style": "light"
          },
          "paper_bgcolor": "white",
          "plot_bgcolor": "#E5ECF6",
          "polar": {
           "angularaxis": {
            "gridcolor": "white",
            "linecolor": "white",
            "ticks": ""
           },
           "bgcolor": "#E5ECF6",
           "radialaxis": {
            "gridcolor": "white",
            "linecolor": "white",
            "ticks": ""
           }
          },
          "scene": {
           "xaxis": {
            "backgroundcolor": "#E5ECF6",
            "gridcolor": "white",
            "gridwidth": 2,
            "linecolor": "white",
            "showbackground": true,
            "ticks": "",
            "zerolinecolor": "white"
           },
           "yaxis": {
            "backgroundcolor": "#E5ECF6",
            "gridcolor": "white",
            "gridwidth": 2,
            "linecolor": "white",
            "showbackground": true,
            "ticks": "",
            "zerolinecolor": "white"
           },
           "zaxis": {
            "backgroundcolor": "#E5ECF6",
            "gridcolor": "white",
            "gridwidth": 2,
            "linecolor": "white",
            "showbackground": true,
            "ticks": "",
            "zerolinecolor": "white"
           }
          },
          "shapedefaults": {
           "line": {
            "color": "#2a3f5f"
           }
          },
          "ternary": {
           "aaxis": {
            "gridcolor": "white",
            "linecolor": "white",
            "ticks": ""
           },
           "baxis": {
            "gridcolor": "white",
            "linecolor": "white",
            "ticks": ""
           },
           "bgcolor": "#E5ECF6",
           "caxis": {
            "gridcolor": "white",
            "linecolor": "white",
            "ticks": ""
           }
          },
          "title": {
           "x": 0.05
          },
          "xaxis": {
           "automargin": true,
           "gridcolor": "white",
           "linecolor": "white",
           "ticks": "",
           "title": {
            "standoff": 15
           },
           "zerolinecolor": "white",
           "zerolinewidth": 2
          },
          "yaxis": {
           "automargin": true,
           "gridcolor": "white",
           "linecolor": "white",
           "ticks": "",
           "title": {
            "standoff": 15
           },
           "zerolinecolor": "white",
           "zerolinewidth": 2
          }
         }
        },
        "title": {
         "text": "Experimental Sequence Timeline"
        },
        "xaxis": {
         "range": [
          0,
          40
         ],
         "title": {
          "text": "Time (steps)"
         },
         "type": "linear"
        },
        "yaxis": {
         "autorange": true,
         "range": [
          7.5,
          -0.5
         ],
         "title": {
          "text": "Step"
         },
         "type": "category"
        }
       }
      },
      "image/png": "[encoded data removed]",
      "text/html": [
       "<div>                            <div id=\"e967bb04-0c12-4abb-b053-c1b64e814295\" class=\"plotly-graph-div\" style=\"height:500px; width:100%;\"></div>            <script type=\"text/javascript\">                require([\"plotly\"], function(Plotly) {                    window.PLOTLYENV=window.PLOTLYENV || {};                                    if (document.getElementById(\"e967bb04-0c12-4abb-b053-c1b64e814295\")) {                    Plotly.newPlot(                        \"e967bb04-0c12-4abb-b053-c1b64e814295\",                        [{\"base\":0,\"hovertemplate\":\"Tweezers<br>Start: 0 ms<br>Duration: 20 ms<br>Group: Prep<extra></extra>\",\"insidetextanchor\":\"start\",\"marker\":{\"color\":\"turquoise\"},\"name\":\"Prep\",\"orientation\":\"h\",\"text\":\"Preparation\",\"textfont\":{\"color\":\"black\",\"size\":11},\"textposition\":\"inside\",\"x\":[20],\"y\":[\"Tweezers\"],\"type\":\"bar\"},{\"base\":30,\"hovertemplate\":\"Tweezers<br>Start: 30 ms<br>Duration: 10 ms<br>Group: Prep<extra></extra>\",\"insidetextanchor\":\"start\",\"marker\":{\"color\":\"turquoise\"},\"name\":\"Prep\",\"orientation\":\"h\",\"text\":\"Recapture\",\"textfont\":{\"color\":\"black\",\"size\":11},\"textposition\":\"inside\",\"x\":[10],\"y\":[\"Tweezers\"],\"type\":\"bar\"},{\"base\":10,\"hovertemplate\":\"LAC<br>Start: 10 ms<br>Duration: 10 ms<br>Group: Control<extra></extra>\",\"insidetextanchor\":\"start\",\"marker\":{\"color\":\"orange\"},\"name\":\"Control\",\"orientation\":\"h\",\"text\":\"t=30 ms\",\"textfont\":{\"color\":\"black\",\"size\":11},\"textposition\":\"inside\",\"x\":[10],\"y\":[\"LAC\"],\"type\":\"bar\"},{\"base\":20,\"hovertemplate\":\"ZS 401<br>Start: 20 ms<br>Duration: 10 ms<br>Group: Manipulation<extra></extra>\",\"insidetextanchor\":\"start\",\"marker\":{\"color\":\"skyblue\"},\"name\":\"Manipulation\",\"orientation\":\"h\",\"text\":\"P401, ZS?, \\\\sigma_-\",\"textfont\":{\"color\":\"black\",\"size\":11},\"textposition\":\"inside\",\"x\":[10],\"y\":[\"ZS 401\"],\"type\":\"bar\"},{\"base\":20,\"hovertemplate\":\"411<br>Start: 20 ms<br>Duration: 10 ms<br>Group: Manipulation<extra></extra>\",\"insidetextanchor\":\"start\",\"marker\":{\"color\":\"skyblue\"},\"name\":\"Manipulation\",\"orientation\":\"h\",\"text\":\"P411, EOMf, \\\\sigma_+\",\"textfont\":{\"color\":\"black\",\"size\":11},\"textposition\":\"inside\",\"x\":[10],\"y\":[\"411\"],\"type\":\"bar\"},{\"base\":30,\"hovertemplate\":\"HV<br>Start: 30 ms<br>Duration: 5 ms<br>Group: Optional<extra></extra>\",\"insidetextanchor\":\"start\",\"marker\":{\"color\":\"violet\"},\"name\":\"Optional\",\"orientation\":\"h\",\"text\":\"\\\\pm 700 V\",\"textfont\":{\"color\":\"black\",\"size\":11},\"textposition\":\"inside\",\"x\":[5],\"y\":[\"HV\"],\"type\":\"bar\"},{\"base\":35.005,\"hovertemplate\":\"Imaging (583)<br>Start: 35.005 ms<br>Duration: 5 ms<br>Group: Readout<extra></extra>\",\"insidetextanchor\":\"start\",\"marker\":{\"color\":\"lightgreen\"},\"name\":\"Readout\",\"orientation\":\"h\",\"text\":\"30 ms, single/double\",\"textfont\":{\"color\":\"black\",\"size\":11},\"textposition\":\"inside\",\"x\":[5],\"y\":[\"Imaging (583)\"],\"type\":\"bar\"},{\"base\":35.005,\"hovertemplate\":\"Imaging (401)<br>Start: 35.005 ms<br>Duration: 5 ms<br>Group: Readout<extra></extra>\",\"insidetextanchor\":\"start\",\"marker\":{\"color\":\"lightgreen\"},\"name\":\"Readout\",\"orientation\":\"h\",\"text\":\"30 us\",\"textfont\":{\"color\":\"black\",\"size\":11},\"textposition\":\"inside\",\"x\":[5],\"y\":[\"Imaging (401)\"],\"type\":\"bar\"},{\"base\":0,\"hovertemplate\":\"Tweezer ON<br>Start: 0 ms<br>Duration: 20 ms<br>Group: Prep<extra></extra>\",\"insidetextanchor\":\"start\",\"marker\":{\"color\":\"turquoise\"},\"name\":\"Prep\",\"orientation\":\"h\",\"text\":\"Tweezer ON (initial)\",\"textfont\":{\"color\":\"black\",\"size\":11},\"textposition\":\"inside\",\"x\":[20],\"y\":[\"Tweezer ON\"],\"type\":\"bar\"},{\"base\":30,\"hovertemplate\":\"Tweezer ON<br>Start: 30 ms<br>Duration: 10 ms<br>Group: Other<extra></extra>\",\"insidetextanchor\":\"start\",\"marker\":{\"color\":\"lightgray\"},\"name\":\"Other\",\"orientation\":\"h\",\"text\":\"Tweezer ON\",\"textfont\":{\"color\":\"black\",\"size\":11},\"textposition\":\"inside\",\"x\":[10],\"y\":[\"Tweezer ON\"],\"type\":\"bar\"},{\"base\":10,\"hovertemplate\":\"LAC<br>Start: 10 ms<br>Duration: 10 ms<br>Group: Control<extra></extra>\",\"insidetextanchor\":\"start\",\"marker\":{\"color\":\"orange\"},\"name\":\"Control\",\"orientation\":\"h\",\"text\":\"LAC\",\"textfont\":{\"color\":\"black\",\"size\":11},\"textposition\":\"inside\",\"x\":[10],\"y\":[\"LAC\"],\"type\":\"bar\"},{\"base\":20,\"hovertemplate\":\"ZS 401<br>Start: 20 ms<br>Duration: 10 ms<br>Group: Manipulation<extra></extra>\",\"insidetextanchor\":\"start\",\"marker\":{\"color\":\"skyblue\"},\"name\":\"Manipulation\",\"orientation\":\"h\",\"text\":\"ZS 401\",\"textfont\":{\"color\":\"black\",\"size\":11},\"textposition\":\"inside\",\"x\":[10],\"y\":[\"ZS 401\"],\"type\":\"bar\"},{\"base\":0,\"hovertemplate\":\"Tweezer ON<br>Start: 0 ms<br>Duration: 20 ms<br>Group: Prep<extra></extra>\",\"insidetextanchor\":\"start\",\"marker\":{\"color\":\"turquoise\"},\"name\":\"Prep\",\"orientation\":\"h\",\"text\":\"Tweezer ON (initial)\",\"textfont\":{\"color\":\"black\",\"size\":11},\"textposition\":\"inside\",\"x\":[20],\"y\":[\"Tweezer ON\"],\"type\":\"bar\"},{\"base\":30,\"hovertemplate\":\"Tweezer ON<br>Start: 30 ms<br>Duration: 10 ms<br>Group: Other<extra></extra>\",\"insidetextanchor\":\"start\",\"marker\":{\"color\":\"lightgray\"},\"name\":\"Other\",\"orientation\":\"h\",\"text\":\"Tweezer ON\",\"textfont\":{\"color\":\"black\",\"size\":11},\"textposition\":\"inside\",\"x\":[10],\"y\":[\"Tweezer ON\"],\"type\":\"bar\"},{\"base\":10,\"hovertemplate\":\"LAC<br>Start: 10 ms<br>Duration: 10 ms<br>Group: Control<extra></extra>\",\"insidetextanchor\":\"start\",\"marker\":{\"color\":\"orange\"},\"name\":\"Control\",\"orientation\":\"h\",\"text\":\"LAC\",\"textfont\":{\"color\":\"black\",\"size\":11},\"textposition\":\"inside\",\"x\":[10],\"y\":[\"LAC\"],\"type\":\"bar\"},{\"base\":20,\"hovertemplate\":\"ZS 401<br>Start: 20 ms<br>Duration: 10 ms<br>Group: Manipulation<extra></extra>\",\"insidetextanchor\":\"start\",\"marker\":{\"color\":\"skyblue\"},\"name\":\"Manipulation\",\"orientation\":\"h\",\"text\":\"ZS 401\",\"textfont\":{\"color\":\"black\",\"size\":11},\"textposition\":\"inside\",\"x\":[10],\"y\":[\"ZS 401\"],\"type\":\"bar\"},{\"base\":0,\"hovertemplate\":\"Tweezer ON<br>Start: 0 ms<br>Duration: 20 ms<br>Group: Prep<extra></extra>\",\"insidetextanchor\":\"start\",\"marker\":{\"color\":\"turquoise\"},\"name\":\"Prep\",\"orientation\":\"h\",\"text\":\"Tweezer ON (initial)\",\"textfont\":{\"color\":\"black\",\"size\":11},\"textposition\":\"inside\",\"x\":[20],\"y\":[\"Tweezer ON\"],\"type\":\"bar\"},{\"base\":30,\"hovertemplate\":\"Tweezer ON<br>Start: 30 ms<br>Duration: 10 ms<br>Group: Other<extra></extra>\",\"insidetextanchor\":\"start\",\"marker\":{\"color\":\"lightgray\"},\"name\":\"Other\",\"orientation\":\"h\",\"text\":\"Tweezer ON\",\"textfont\":{\"color\":\"black\",\"size\":11},\"textposition\":\"inside\",\"x\":[10],\"y\":[\"Tweezer ON\"],\"type\":\"bar\"},{\"base\":10,\"hovertemplate\":\"LAC<br>Start: 10 ms<br>Duration: 10 ms<br>Group: Control<extra></extra>\",\"insidetextanchor\":\"start\",\"marker\":{\"color\":\"orange\"},\"name\":\"Control\",\"orientation\":\"h\",\"text\":\"LAC\",\"textfont\":{\"color\":\"black\",\"size\":11},\"textposition\":\"inside\",\"x\":[10],\"y\":[\"LAC\"],\"type\":\"bar\"},{\"base\":20,\"hovertemplate\":\"ZS 401<br>Start: 20 ms<br>Duration: 10 ms<br>Group: Manipulation<extra></extra>\",\"insidetextanchor\":\"start\",\"marker\":{\"color\":\"skyblue\"},\"name\":\"Manipulation\",\"orientation\":\"h\",\"text\":\"ZS 401\",\"textfont\":{\"color\":\"black\",\"size\":11},\"textposition\":\"inside\",\"x\":[10],\"y\":[\"ZS 401\"],\"type\":\"bar\"}],                        {\"template\":{\"data\":{\"histogram2dcontour\":[{\"type\":\"histogram2dcontour\",\"colorbar\":{\"outlinewidth\":0,\"ticks\":\"\"},\"colorscale\":[[0.0,\"#0d0887\"],[0.1111111111111111,\"#46039f\"],[0.2222222222222222,\"#7201a8\"],[0.3333333333333333,\"#9c179e\"],[0.4444444444444444,\"#bd3786\"],[0.5555555555555556,\"#d8576b\"],[0.6666666666666666,\"#ed7953\"],[0.7777777777777778,\"#fb9f3a\"],[0.8888888888888888,\"#fdca26\"],[1.0,\"#f0f921\"]]}],\"choropleth\":[{\"type\":\"choropleth\",\"colorbar\":{\"outlinewidth\":0,\"ticks\":\"\"}}],\"histogram2d\":[{\"type\":\"histogram2d\",\"colorbar\":{\"outlinewidth\":0,\"ticks\":\"\"},\"colorscale\":[[0.0,\"#0d0887\"],[0.1111111111111111,\"#46039f\"],[0.2222222222222222,\"#7201a8\"],[0.3333333333333333,\"#9c179e\"],[0.4444444444444444,\"#bd3786\"],[0.5555555555555556,\"#d8576b\"],[0.6666666666666666,\"#ed7953\"],[0.7777777777777778,\"#fb9f3a\"],[0.8888888888888888,\"#fdca26\"],[1.0,\"#f0f921\"]]}],\"heatmap\":[{\"type\":\"heatmap\",\"colorbar\":{\"outlinewidth\":0,\"ticks\":\"\"},\"colorscale\":[[0.0,\"#0d0887\"],[0.1111111111111111,\"#46039f\"],[0.2222222222222222,\"#7201a8\"],[0.3333333333333333,\"#9c179e\"],[0.4444444444444444,\"#bd3786\"],[0.5555555555555556,\"#d8576b\"],[0.6666666666666666,\"#ed7953\"],[0.7777777777777778,\"#fb9f3a\"],[0.8888888888888888,\"#fdca26\"],[1.0,\"#f0f921\"]]}],\"heatmapgl\":[{\"type\":\"heatmapgl\",\"colorbar\":{\"outlinewidth\":0,\"ticks\":\"\"},\"colorscale\":[[0.0,\"#0d0887\"],[0.1111111111111111,\"#46039f\"],[0.2222222222222222,\"#7201a8\"],[0.3333333333333333,\"#9c179e\"],[0.4444444444444444,\"#bd3786\"],[0.5555555555555556,\"#d8576b\"],[0.6666666666666666,\"#ed7953\"],[0.7777777777777778,\"#fb9f3a\"],[0.8888888888888888,\"#fdca26\"],[1.0,\"#f0f921\"]]}],\"contourcarpet\":[{\"type\":\"contourcarpet\",\"colorbar\":{\"outlinewidth\":0,\"ticks\":\"\"}}],\"contour\":[{\"type\":\"contour\",\"colorbar\":{\"outlinewidth\":0,\"ticks\":\"\"},\"colorscale\":[[0.0,\"#0d0887\"],[0.1111111111111111,\"#46039f\"],[0.2222222222222222,\"#7201a8\"],[0.3333333333333333,\"#9c179e\"],[0.4444444444444444,\"#bd3786\"],[0.5555555555555556,\"#d8576b\"],[0.6666666666666666,\"#ed7953\"],[0.7777777777777778,\"#fb9f3a\"],[0.8888888888888888,\"#fdca26\"],[1.0,\"#f0f921\"]]}],\"surface\":[{\"type\":\"surface\",\"colorbar\":{\"outlinewidth\":0,\"ticks\":\"\"},\"colorscale\":[[0.0,\"#0d0887\"],[0.1111111111111111,\"#46039f\"],[0.2222222222222222,\"#7201a8\"],[0.3333333333333333,\"#9c179e\"],[0.4444444444444444,\"#bd3786\"],[0.5555555555555556,\"#d8576b\"],[0.6666666666666666,\"#ed7953\"],[0.7777777777777778,\"#fb9f3a\"],[0.8888888888888888,\"#fdca26\"],[1.0,\"#f0f921\"]]}],\"mesh3d\":[{\"type\":\"mesh3d\",\"colorbar\":{\"outlinewidth\":0,\"ticks\":\"\"}}],\"scatter\":[{\"fillpattern\":{\"fillmode\":\"overlay\",\"size\":10,\"solidity\":0.2},\"type\":\"scatter\"}],\"parcoords\":[{\"type\":\"parcoords\",\"line\":{\"colorbar\":{\"outlinewidth\":0,\"ticks\":\"\"}}}],\"scatterpolargl\":[{\"type\":\"scatterpolargl\",\"marker\":{\"colorbar\":{\"outlinewidth\":0,\"ticks\":\"\"}}}],\"bar\":[{\"error_x\":{\"color\":\"#2a3f5f\"},\"error_y\":{\"color\":\"#2a3f5f\"},\"marker\":{\"line\":{\"color\":\"#E5ECF6\",\"width\":0.5},\"pattern\":{\"fillmode\":\"overlay\",\"size\":10,\"solidity\":0.2}},\"type\":\"bar\"}],\"scattergeo\":[{\"type\":\"scattergeo\",\"marker\":{\"colorbar\":{\"outlinewidth\":0,\"ticks\":\"\"}}}],\"scatterpolar\":[{\"type\":\"scatterpolar\",\"marker\":{\"colorbar\":{\"outlinewidth\":0,\"ticks\":\"\"}}}],\"histogram\":[{\"marker\":{\"pattern\":{\"fillmode\":\"overlay\",\"size\":10,\"solidity\":0.2}},\"type\":\"histogram\"}],\"scattergl\":[{\"type\":\"scattergl\",\"marker\":{\"colorbar\":{\"outlinewidth\":0,\"ticks\":\"\"}}}],\"scatter3d\":[{\"type\":\"scatter3d\",\"line\":{\"colorbar\":{\"outlinewidth\":0,\"ticks\":\"\"}},\"marker\":{\"colorbar\":{\"outlinewidth\":0,\"ticks\":\"\"}}}],\"scattermapbox\":[{\"type\":\"scattermapbox\",\"marker\":{\"colorbar\":{\"outlinewidth\":0,\"ticks\":\"\"}}}],\"scatterternary\":[{\"type\":\"scatterternary\",\"marker\":{\"colorbar\":{\"outlinewidth\":0,\"ticks\":\"\"}}}],\"scattercarpet\":[{\"type\":\"scattercarpet\",\"marker\":{\"colorbar\":{\"outlinewidth\":0,\"ticks\":\"\"}}}],\"carpet\":[{\"aaxis\":{\"endlinecolor\":\"#2a3f5f\",\"gridcolor\":\"white\",\"linecolor\":\"white\",\"minorgridcolor\":\"white\",\"startlinecolor\":\"#2a3f5f\"},\"baxis\":{\"endlinecolor\":\"#2a3f5f\",\"gridcolor\":\"white\",\"linecolor\":\"white\",\"minorgridcolor\":\"white\",\"startlinecolor\":\"#2a3f5f\"},\"type\":\"carpet\"}],\"table\":[{\"cells\":{\"fill\":{\"color\":\"#EBF0F8\"},\"line\":{\"color\":\"white\"}},\"header\":{\"fill\":{\"color\":\"#C8D4E3\"},\"line\":{\"color\":\"white\"}},\"type\":\"table\"}],\"barpolar\":[{\"marker\":{\"line\":{\"color\":\"#E5ECF6\",\"width\":0.5},\"pattern\":{\"fillmode\":\"overlay\",\"size\":10,\"solidity\":0.2}},\"type\":\"barpolar\"}],\"pie\":[{\"automargin\":true,\"type\":\"pie\"}]},\"layout\":{\"autotypenumbers\":\"strict\",\"colorway\":[\"#636efa\",\"#EF553B\",\"#00cc96\",\"#ab63fa\",\"#FFA15A\",\"#19d3f3\",\"#FF6692\",\"#B6E880\",\"#FF97FF\",\"#FECB52\"],\"font\":{\"color\":\"#2a3f5f\"},\"hovermode\":\"closest\",\"hoverlabel\":{\"align\":\"left\"},\"paper_bgcolor\":\"white\",\"plot_bgcolor\":\"#E5ECF6\",\"polar\":{\"bgcolor\":\"#E5ECF6\",\"angularaxis\":{\"gridcolor\":\"white\",\"linecolor\":\"white\",\"ticks\":\"\"},\"radialaxis\":{\"gridcolor\":\"white\",\"linecolor\":\"white\",\"ticks\":\"\"}},\"ternary\":{\"bgcolor\":\"#E5ECF6\",\"aaxis\":{\"gridcolor\":\"white\",\"linecolor\":\"white\",\"ticks\":\"\"},\"baxis\":{\"gridcolor\":\"white\",\"linecolor\":\"white\",\"ticks\":\"\"},\"caxis\":{\"gridcolor\":\"white\",\"linecolor\":\"white\",\"ticks\":\"\"}},\"coloraxis\":{\"colorbar\":{\"outlinewidth\":0,\"ticks\":\"\"}},\"colorscale\":{\"sequential\":[[0.0,\"#0d0887\"],[0.1111111111111111,\"#46039f\"],[0.2222222222222222,\"#7201a8\"],[0.3333333333333333,\"#9c179e\"],[0.4444444444444444,\"#bd3786\"],[0.5555555555555556,\"#d8576b\"],[0.6666666666666666,\"#ed7953\"],[0.7777777777777778,\"#fb9f3a\"],[0.8888888888888888,\"#fdca26\"],[1.0,\"#f0f921\"]],\"sequentialminus\":[[0.0,\"#0d0887\"],[0.1111111111111111,\"#46039f\"],[0.2222222222222222,\"#7201a8\"],[0.3333333333333333,\"#9c179e\"],[0.4444444444444444,\"#bd3786\"],[0.5555555555555556,\"#d8576b\"],[0.6666666666666666,\"#ed7953\"],[0.7777777777777778,\"#fb9f3a\"],[0.8888888888888888,\"#fdca26\"],[1.0,\"#f0f921\"]],\"diverging\":[[0,\"#8e0152\"],[0.1,\"#c51b7d\"],[0.2,\"#de77ae\"],[0.3,\"#f1b6da\"],[0.4,\"#fde0ef\"],[0.5,\"#f7f7f7\"],[0.6,\"#e6f5d0\"],[0.7,\"#b8e186\"],[0.8,\"#7fbc41\"],[0.9,\"#4d9221\"],[1,\"#276419\"]]},\"xaxis\":{\"gridcolor\":\"white\",\"linecolor\":\"white\",\"ticks\":\"\",\"title\":{\"standoff\":15},\"zerolinecolor\":\"white\",\"automargin\":true,\"zerolinewidth\":2},\"yaxis\":{\"gridcolor\":\"white\",\"linecolor\":\"white\",\"ticks\":\"\",\"title\":{\"standoff\":15},\"zerolinecolor\":\"white\",\"automargin\":true,\"zerolinewidth\":2},\"scene\":{\"xaxis\":{\"backgroundcolor\":\"#E5ECF6\",\"gridcolor\":\"white\",\"linecolor\":\"white\",\"showbackground\":true,\"ticks\":\"\",\"zerolinecolor\":\"white\",\"gridwidth\":2},\"yaxis\":{\"backgroundcolor\":\"#E5ECF6\",\"gridcolor\":\"white\",\"linecolor\":\"white\",\"showbackground\":true,\"ticks\":\"\",\"zerolinecolor\":\"white\",\"gridwidth\":2},\"zaxis\":{\"backgroundcolor\":\"#E5ECF6\",\"gridcolor\":\"white\",\"linecolor\":\"white\",\"showbackground\":true,\"ticks\":\"\",\"zerolinecolor\":\"white\",\"gridwidth\":2}},\"shapedefaults\":{\"line\":{\"color\":\"#2a3f5f\"}},\"annotationdefaults\":{\"arrowcolor\":\"#2a3f5f\",\"arrowhead\":0,\"arrowwidth\":1},\"geo\":{\"bgcolor\":\"white\",\"landcolor\":\"#E5ECF6\",\"subunitcolor\":\"white\",\"showland\":true,\"showlakes\":true,\"lakecolor\":\"white\"},\"title\":{\"x\":0.05},\"mapbox\":{\"style\":\"light\"}}},\"xaxis\":{\"title\":{\"text\":\"Time (steps)\"},\"range\":[0,40]},\"yaxis\":{\"title\":{\"text\":\"Step\"},\"autorange\":\"reversed\"},\"margin\":{\"l\":200,\"r\":50,\"t\":50,\"b\":50},\"title\":{\"text\":\"Experimental Sequence Timeline\"},\"barmode\":\"stack\",\"showlegend\":false,\"height\":500},                        {\"responsive\": true}                    ).then(function(){\n",
       "                            \n",
       "var gd = document.getElementById('e967bb04-0c12-4abb-b053-c1b64e814295');\n",
       "var x = new MutationObserver(function (mutations, observer) {{\n",
       "        var display = window.getComputedStyle(gd).display;\n",
       "        if (!display || display === 'none') {{\n",
       "            console.log([gd, 'removed!']);\n",
       "            Plotly.purge(gd);\n",
       "            observer.disconnect();\n",
       "        }}\n",
       "}});\n",
       "\n",
       "// Listen for the removal of the full notebook cells\n",
       "var notebookContainer = gd.closest('#notebook-container');\n",
       "if (notebookContainer) {{\n",
       "    x.observe(notebookContainer, {childList: true});\n",
       "}}\n",
       "\n",
       "// Listen for the clearing of the current output cell\n",
       "var outputEl = gd.closest('.output');\n",
       "if (outputEl) {{\n",
       "    x.observe(outputEl, {childList: true});\n",
       "}}\n",
       "\n",
       "                        })                };                });            </script>        </div>"
      ]
     },
     "metadata": {},
     "output_type": "display_data"
    }
   ],
   "source": [
    "# default colors\n",
    "steps = [\n",
    "    dict(name=\"Tweezer ON\", start=0, duration=20, group=\"Prep\", label=\"Tweezer ON (initial)\"),\n",
    "    dict(name=\"Tweezer ON\", start=30, duration=10),  # group and label are omitted\n",
    "    dict(name=\"LAC\", start=10, duration=10, group=\"Control\"),\n",
    "    dict(name=\"ZS 401\", start=20, duration=10, group=\"Manipulation\", label=\"ZS 401\"),\n",
    "    # more steps...\n",
    "]\n",
    "\n",
    "default_color = \"lightgray\"  # fallback if group or color missing\n",
    "\n",
    "for step in steps:\n",
    "    group = step.get(\"group\", \"Other\")  # fallback group\n",
    "    label = step.get(\"label\", step[\"name\"])\n",
    "    color = colors.get(group, default_color)\n",
    "\n",
    "    fig.add_trace(go.Bar(\n",
    "        x=[step[\"duration\"]],\n",
    "        y=[step[\"name\"]],\n",
    "        base=step[\"start\"],\n",
    "        orientation='h',\n",
    "        marker=dict(color=color),\n",
    "        name=group,\n",
    "        hovertemplate=f\"{step['name']}<br>Start: {step['start']} ms<br>Duration: {step['duration']} ms<br>Group: {group}<extra></extra>\",\n",
    "        text=label,\n",
    "        textposition=\"inside\",\n",
    "        insidetextanchor=\"start\",\n",
    "        textfont=dict(color=\"black\", size=11)\n",
    "    ))\n",
    "\n",
    "# Layout customization\n",
    "fig.update_layout(\n",
    "    title=\"Experimental Sequence Timeline\",\n",
    "    xaxis=dict(title=\"Time (steps)\", range=[0, 40]),\n",
    "    yaxis=dict(title=\"Step\", autorange=\"reversed\"),\n",
    "    barmode='stack',\n",
    "    showlegend=False,\n",
    "    height=500,\n",
    "    margin=dict(l=200, r=50, t=50, b=50),\n",
    ")\n",
    "\n",
    "fig.show()"
   ]
  },
  {
   "cell_type": "code",
   "execution_count": null,
   "id": "7fdf34f8-664f-4394-b90a-f61d460c37c5",
   "metadata": {},
   "outputs": [],
   "source": []
  },
  {
   "cell_type": "code",
   "execution_count": null,
   "id": "571cbde3-c669-46a7-9a74-a522e0a22e12",
   "metadata": {},
   "outputs": [],
   "source": []
  }
 ],
 "metadata": {
  "kernelspec": {
   "display_name": "Python 3 (ipykernel)",
   "language": "python",
   "name": "python3"
  },
  "language_info": {
   "codemirror_mode": {
    "name": "ipython",
    "version": 3
   },
   "file_extension": ".py",
   "mimetype": "text/x-python",
   "name": "python",
   "nbconvert_exporter": "python",
   "pygments_lexer": "ipython3",
   "version": "3.10.11"
  }
 },
 "nbformat": 4,
 "nbformat_minor": 5
}
